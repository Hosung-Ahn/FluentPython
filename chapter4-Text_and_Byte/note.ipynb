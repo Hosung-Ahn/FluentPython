{
 "cells": [
  {
   "cell_type": "code",
   "execution_count": 15,
   "metadata": {},
   "outputs": [
    {
     "name": "stdout",
     "output_type": "stream",
     "text": [
      "b'cafe'\n",
      "cafe[0] : 99\n",
      "cafe[1] : 97\n",
      "cafe[2] : 102\n",
      "cafe[3] : 101\n",
      "\n",
      "bytearray(b'cafe')\n",
      "cafe[0] : 99\n",
      "cafe[1] : 97\n",
      "cafe[2] : 102\n",
      "cafe[3] : 101\n",
      "\n",
      "bytearray(b'c')\n"
     ]
    }
   ],
   "source": [
    "cafe = bytes('cafe', encoding='utf-8')\n",
    "print(cafe)\n",
    "\n",
    "for i,b in enumerate(cafe) : \n",
    "    print(f\"cafe[{i}] : {b}\")\n",
    "    \n",
    "cafe_arr = bytearray('cafe', encoding='utf-8')\n",
    "print(\"\\n\",cafe_arr, sep = '')\n",
    "\n",
    "for i,b in enumerate(cafe_arr) : \n",
    "    print(f\"cafe[{i}] : {b}\")\n",
    "    \n",
    "    \n",
    "# bytearray[:1]은 bytearray를 반환한다.\n",
    "print(\"\\n\", cafe_arr[:1], sep = '')\n",
    "\n",
    "# s[0] == s[:1] 이 참이 되는 경우는 str이 유일하다.\n"
   ]
  },
  {
   "cell_type": "code",
   "execution_count": 17,
   "metadata": {},
   "outputs": [
    {
     "data": {
      "text/plain": [
       "b'\\xfe\\xff\\xff\\xff\\x00\\x00\\x01\\x00\\x02\\x00'"
      ]
     },
     "execution_count": 17,
     "metadata": {},
     "output_type": "execute_result"
    }
   ],
   "source": [
    "# bytes는 형변환을 지원한다.\n",
    "\n",
    "import array\n",
    "nums = array.array('h', [-2,-1,0,1,2])\n",
    "octets = bytes(nums)\n",
    "octets"
   ]
  },
  {
   "cell_type": "code",
   "execution_count": 27,
   "metadata": {},
   "outputs": [
    {
     "name": "stdout",
     "output_type": "stream",
     "text": [
      "utf_8\tb'\\xec\\x82\\xac\\xea\\xb3\\xbc'\n",
      "utf_16\tb'\\xff\\xfe\\xac\\xc0\\xfc\\xac'\n",
      "cp949\tb'\\xbb\\xe7\\xb0\\xfa'\n"
     ]
    }
   ],
   "source": [
    "# 어떤 codec을 사용하냐에 따라 인코딩이 달라진다.\n",
    "\n",
    "for codec in ['utf_8', 'utf_16', 'cp949'] :\n",
    "    print(codec, \"사과\".encode(codec), sep = '\\t')"
   ]
  },
  {
   "cell_type": "code",
   "execution_count": 37,
   "metadata": {},
   "outputs": [
    {
     "name": "stdout",
     "output_type": "stream",
     "text": [
      "'utf-8' codec can't decode byte 0xbe in position 0: invalid start byte\n",
      "안녕하세요.\n"
     ]
    }
   ],
   "source": [
    "#파일을 작성할 때 작성한 codec과 읽을 때 사용한 codec이 다르면\n",
    "#에러를 발생하거나 문자가 깨질 수 있다.\n",
    "#따라서 codec을 미리 통일할 필요가 있다. (특히 여러 사람과 작업하게 된다면)\n",
    "\n",
    "with open(\"text.txt\", 'w', encoding = 'cp949') as f :\n",
    "    f.write(\"안녕하세요.\")\n",
    "\n",
    "try :\n",
    "    f = open(\"text.txt\", 'r', encoding = 'utf-8').read()\n",
    "except Exception as e : \n",
    "    print(e)\n",
    "    f = open(\"text.txt\", 'r', encoding = 'cp949').read()\n",
    "    \n",
    "print(f)"
   ]
  },
  {
   "cell_type": "code",
   "execution_count": 68,
   "metadata": {},
   "outputs": [
    {
     "name": "stdout",
     "output_type": "stream",
     "text": [
      " locale.getpreferredencoding() -> cp949\n",
      "                 type(my_file) -> <class '_io.TextIOWrapper'>\n",
      "              my_file.encoding -> cp949\n",
      "           sys.stdout.isatty() -> False\n",
      "           sys.stdout.encoding -> UTF-8\n",
      "            sys.stdin.isatty() -> False\n",
      "            sys.stdin.encoding -> utf-8\n",
      "           sys.stderr.isatty() -> False\n",
      "      sys.getdefaultencoding() -> utf-8\n",
      "   sys.getfilesystemencoding() -> utf-8\n"
     ]
    }
   ],
   "source": [
    "# sys와 locale 에서 default codec을 확인할 수 있다.\n",
    "\n",
    "# locale은 현재 코드 작성 환경의 codec을 보여준다. \n",
    "# sys 은 표준입출력의 codec을 보여준다.\n",
    "# sys.~.isatty() 은 입출력이 콘솔(터미널) 에서 작동하는지 여부를 알려준다.\n",
    "\n",
    "# 출력을 보면 현재 필자의 코드 작성 환경이 주피터 노트북으로 리다이렉션 됬으므로 isatty() 가 False로 나온다.\n",
    "#   리다이렉션 : 표준입출력을 사용자 지정 위치로 우회하는 것을 말한다.\n",
    "# locale 이 cp949 이므로 my_file도 cp949로 encoding 되었음을 알 수 있다.\n",
    "# 하지만 sys 상에서는 utf-8을 디폴트로 사용하고 있다.\n",
    "# 따라서 my_file을 주피터 노트북 환경이 아닌 터미널에서 실행하여 파일을 읽어들일 경우 오류가 발생할 것을 예상할 수 있다.\n",
    "# 이 경우에는 encoding = 'cp949' 을 설정해야 오류를 피할 수 있다.\n",
    "\n",
    "# 결론 : 기본 인코딩에 의존하지 말고 인코딩을 명시하자.\n",
    "\n",
    "import sys, locale\n",
    "\n",
    "expressions = \"\"\" \n",
    "        locale.getprefererdencoding()\n",
    "        type(my_file)\n",
    "        my_file.encoding\n",
    "        sys.stdout.isatty()\n",
    "        sys.stdout.encoding\n",
    "        sys.stdin.isatty()\n",
    "        sys.stdin.encoding\n",
    "        sys.stderr.isatty()\n",
    "        sys.getdefaultencoding()\n",
    "        sys.getfilesystemencoding()\n",
    "\"\"\"\n",
    "\n",
    "my_file = open('dummy', 'w')\n",
    "\n",
    "for expression in expressions.split() :\n",
    "    value = eval(expression)\n",
    "    print(f\"{expression:>30} -> {str(value)}\")\n",
    "    \n",
    "    \n"
   ]
  }
 ],
 "metadata": {
  "kernelspec": {
   "display_name": "Python 3.10.2 64-bit",
   "language": "python",
   "name": "python3"
  },
  "language_info": {
   "codemirror_mode": {
    "name": "ipython",
    "version": 3
   },
   "file_extension": ".py",
   "mimetype": "text/x-python",
   "name": "python",
   "nbconvert_exporter": "python",
   "pygments_lexer": "ipython3",
   "version": "3.10.2"
  },
  "orig_nbformat": 4,
  "vscode": {
   "interpreter": {
    "hash": "369f2c481f4da34e4445cda3fffd2e751bd1c4d706f27375911949ba6bb62e1c"
   }
  }
 },
 "nbformat": 4,
 "nbformat_minor": 2
}
