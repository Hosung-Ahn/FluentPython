{
 "cells": [
  {
   "cell_type": "markdown",
   "metadata": {},
   "source": [
    "# Sentence 버전 #1 : 단어 시퀀스 "
   ]
  },
  {
   "cell_type": "markdown",
   "metadata": {},
   "source": [
    "## 반복자\n",
    "### 다음 항목을 반환하거나, 다음 항목이 없을 때 StopIteration 예외를 발생시키는, 인수를 받지 않는 \\_\\_next__() 메서드를 구현하는 객체.\n",
    "### 파이썬 반복자는 \\_\\_iter__() 메서드도 구현하므로 반복형이기도 하다."
   ]
  },
  {
   "cell_type": "code",
   "execution_count": 1,
   "metadata": {},
   "outputs": [],
   "source": [
    "import re\n",
    "import reprlib\n",
    "\n",
    "RE_WORD = re.compile(\"\\w+\")\n",
    "\n",
    "class Sentence :\n",
    "    \n",
    "    def __init__(self, text) :\n",
    "        self.text = text\n",
    "        self.words = RE_WORD.findall(text)\n",
    "        \n",
    "    # __iter__ 을 구현하지 않아도 __getitem__ 을 구현하면 인덱스가 0 부터 반복한다.\n",
    "    def __getitem__(self, index) :\n",
    "        return self.words[index]\n",
    "    \n",
    "    def __len__(self) :\n",
    "        return len(self.words)\n",
    "    \n",
    "    def __repr__(self) :\n",
    "        return f\"Sentence({reprlib.repr(self.text)})\""
   ]
  },
  {
   "cell_type": "code",
   "execution_count": 4,
   "metadata": {},
   "outputs": [
    {
     "data": {
      "text/plain": [
       "Sentence('\"The time ha... Walrus said,')"
      ]
     },
     "execution_count": 4,
     "metadata": {},
     "output_type": "execute_result"
    }
   ],
   "source": [
    "s = Sentence('\"The time has come\", the Walrus said,')\n",
    "s "
   ]
  },
  {
   "cell_type": "code",
   "execution_count": 5,
   "metadata": {},
   "outputs": [
    {
     "name": "stdout",
     "output_type": "stream",
     "text": [
      "The\n",
      "time\n",
      "has\n",
      "come\n",
      "the\n",
      "Walrus\n",
      "said\n"
     ]
    }
   ],
   "source": [
    "for word in s :\n",
    "    print(word)\n",
    "    "
   ]
  },
  {
   "cell_type": "markdown",
   "metadata": {},
   "source": [
    "# Sentence 버전 #2 : 고전적인 반복자\n",
    "## 반복형과 반복자의 차이\n",
    "<br>\n",
    "\n",
    "## 반복형 : 호출할 때마다 반복자를 새로 생성하는 \\_\\_iter__() 메서드를 가지고 있다.\n",
    "## 반복자 : 개별 항목을 반환하는 \\_\\_next__() 메서드와 self를 반환하는 \\_\\_iter__() 메서드를 가지고 있다."
   ]
  },
  {
   "cell_type": "code",
   "execution_count": 7,
   "metadata": {},
   "outputs": [],
   "source": [
    "import re\n",
    "import reprlib\n",
    "\n",
    "RE_WORD = re.compile(\"\\w+\")\n",
    "\n",
    "# 반복형\n",
    "class Sentence :\n",
    "    \n",
    "    def __init__(self, text) :\n",
    "        self.text = text\n",
    "        self.words = RE_WORD.findall(text)\n",
    "    \n",
    "    def __repr__(self) :\n",
    "        return f\"Sentence({reprlib.repr(self.text)})\"\n",
    "    \n",
    "    def __iter__(self) :\n",
    "        return SentenceIterator(self.words)\n",
    "    \n",
    "# 반복자\n",
    "class SentenceIterator :\n",
    "    \n",
    "    def __init__(self, words) :\n",
    "        self.words = words\n",
    "        self.index = 0\n",
    "        \n",
    "    def __next__(self) :\n",
    "        try :\n",
    "            word = self.words[self.index]\n",
    "        except :\n",
    "            raise StopIteration()\n",
    "        self.index+=1\n",
    "        return word\n",
    "    \n",
    "    def __iter__(self) :\n",
    "        return self"
   ]
  },
  {
   "cell_type": "code",
   "execution_count": 8,
   "metadata": {},
   "outputs": [
    {
     "data": {
      "text/plain": [
       "Sentence('\"The time ha... Walrus said,')"
      ]
     },
     "execution_count": 8,
     "metadata": {},
     "output_type": "execute_result"
    }
   ],
   "source": [
    "s = Sentence('\"The time has come\", the Walrus said,')\n",
    "s "
   ]
  },
  {
   "cell_type": "code",
   "execution_count": 9,
   "metadata": {},
   "outputs": [
    {
     "name": "stdout",
     "output_type": "stream",
     "text": [
      "The\n",
      "time\n",
      "has\n",
      "come\n",
      "the\n",
      "Walrus\n",
      "said\n"
     ]
    }
   ],
   "source": [
    "for word in s :\n",
    "    print(word)"
   ]
  }
 ],
 "metadata": {
  "kernelspec": {
   "display_name": "Python 3.10.2 64-bit",
   "language": "python",
   "name": "python3"
  },
  "language_info": {
   "codemirror_mode": {
    "name": "ipython",
    "version": 3
   },
   "file_extension": ".py",
   "mimetype": "text/x-python",
   "name": "python",
   "nbconvert_exporter": "python",
   "pygments_lexer": "ipython3",
   "version": "3.10.2"
  },
  "orig_nbformat": 4,
  "vscode": {
   "interpreter": {
    "hash": "369f2c481f4da34e4445cda3fffd2e751bd1c4d706f27375911949ba6bb62e1c"
   }
  }
 },
 "nbformat": 4,
 "nbformat_minor": 2
}
