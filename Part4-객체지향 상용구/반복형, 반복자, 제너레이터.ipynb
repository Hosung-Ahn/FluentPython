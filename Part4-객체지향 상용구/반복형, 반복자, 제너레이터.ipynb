{
 "cells": [
  {
   "cell_type": "markdown",
   "metadata": {},
   "source": [
    "# Sentence 버전 #1 : 단어 시퀀스 "
   ]
  },
  {
   "cell_type": "markdown",
   "metadata": {},
   "source": [
    "## 반복자\n",
    "### 다음 항목을 반환하거나, 다음 항목이 없을 때 StopIteration 예외를 발생시키는, 인수를 받지 않는 \\_\\_next__() 메서드를 구현하는 객체.\n",
    "### 파이썬 반복자는 \\_\\_iter__() 메서드도 구현하므로 반복형이기도 하다."
   ]
  },
  {
   "cell_type": "code",
   "execution_count": 1,
   "metadata": {},
   "outputs": [],
   "source": [
    "import re\n",
    "import reprlib\n",
    "\n",
    "RE_WORD = re.compile(\"\\w+\")\n",
    "\n",
    "class Sentence :\n",
    "    \n",
    "    def __init__(self, text) :\n",
    "        self.text = text\n",
    "        self.words = RE_WORD.findall(text)\n",
    "        \n",
    "    # __iter__ 을 구현하지 않아도 __getitem__ 을 구현하면 인덱스가 0 부터 반복한다.\n",
    "    def __getitem__(self, index) :\n",
    "        return self.words[index]\n",
    "    \n",
    "    def __len__(self) :\n",
    "        return len(self.words)\n",
    "    \n",
    "    def __repr__(self) :\n",
    "        return f\"Sentence({reprlib.repr(self.text)})\""
   ]
  },
  {
   "cell_type": "code",
   "execution_count": 4,
   "metadata": {},
   "outputs": [
    {
     "data": {
      "text/plain": [
       "Sentence('\"The time ha... Walrus said,')"
      ]
     },
     "execution_count": 4,
     "metadata": {},
     "output_type": "execute_result"
    }
   ],
   "source": [
    "s = Sentence('\"The time has come\", the Walrus said,')\n",
    "s "
   ]
  },
  {
   "cell_type": "code",
   "execution_count": 5,
   "metadata": {},
   "outputs": [
    {
     "name": "stdout",
     "output_type": "stream",
     "text": [
      "The\n",
      "time\n",
      "has\n",
      "come\n",
      "the\n",
      "Walrus\n",
      "said\n"
     ]
    }
   ],
   "source": [
    "for word in s :\n",
    "    print(word)\n",
    "    "
   ]
  },
  {
   "cell_type": "markdown",
   "metadata": {},
   "source": [
    "# Sentence 버전 #2 : 고전적인 반복자\n",
    "## 반복형과 반복자의 차이\n",
    "<br>\n",
    "\n",
    "## 반복형 : 호출할 때마다 반복자를 새로 생성하는 \\_\\_iter__() 메서드를 가지고 있다.\n",
    "## 반복자 : 개별 항목을 반환하는 \\_\\_next__() 메서드와 self를 반환하는 \\_\\_iter__() 메서드를 가지고 있다."
   ]
  },
  {
   "cell_type": "code",
   "execution_count": 7,
   "metadata": {},
   "outputs": [],
   "source": [
    "import re\n",
    "import reprlib\n",
    "\n",
    "RE_WORD = re.compile(\"\\w+\")\n",
    "\n",
    "# 반복형\n",
    "class Sentence :\n",
    "    \n",
    "    def __init__(self, text) :\n",
    "        self.text = text\n",
    "        self.words = RE_WORD.findall(text)\n",
    "    \n",
    "    def __repr__(self) :\n",
    "        return f\"Sentence({reprlib.repr(self.text)})\"\n",
    "    \n",
    "    def __iter__(self) :\n",
    "        return SentenceIterator(self.words)\n",
    "    \n",
    "# 반복자\n",
    "class SentenceIterator :\n",
    "    \n",
    "    def __init__(self, words) :\n",
    "        self.words = words\n",
    "        self.index = 0\n",
    "        \n",
    "    def __next__(self) :\n",
    "        try :\n",
    "            word = self.words[self.index]\n",
    "        except :\n",
    "            raise StopIteration()\n",
    "        self.index+=1\n",
    "        return word\n",
    "    \n",
    "    def __iter__(self) :\n",
    "        return self"
   ]
  },
  {
   "cell_type": "code",
   "execution_count": 8,
   "metadata": {},
   "outputs": [
    {
     "data": {
      "text/plain": [
       "Sentence('\"The time ha... Walrus said,')"
      ]
     },
     "execution_count": 8,
     "metadata": {},
     "output_type": "execute_result"
    }
   ],
   "source": [
    "s = Sentence('\"The time has come\", the Walrus said,')\n",
    "s "
   ]
  },
  {
   "cell_type": "markdown",
   "metadata": {},
   "source": [
    "# Sentence 버전 #3 : 제너레이터 함수"
   ]
  },
  {
   "cell_type": "code",
   "execution_count": 5,
   "metadata": {},
   "outputs": [],
   "source": [
    "import re\n",
    "import reprlib\n",
    "\n",
    "RE_WORD = re.compile('\\w+')\n",
    "\n",
    "class Sentence :\n",
    "    def __init__(self, text) :\n",
    "        self.text = text\n",
    "        self.words = RE_WORD.findall(text)\n",
    "        \n",
    "    def __repr__(self) :\n",
    "        return f'Sentence({self.text})'\n",
    "    \n",
    "    def __iter__(self) :\n",
    "        for word in self.words :\n",
    "            yield word"
   ]
  },
  {
   "cell_type": "code",
   "execution_count": 12,
   "metadata": {},
   "outputs": [
    {
     "name": "stdout",
     "output_type": "stream",
     "text": [
      "Lorem\n",
      "ipsum\n",
      "dolor\n",
      "sit\n",
      "amet\n"
     ]
    }
   ],
   "source": [
    "sentence = Sentence(\"Lorem ipsum dolor sit amet.\")\n",
    "for word in sentence :\n",
    "    print(word)"
   ]
  },
  {
   "cell_type": "markdown",
   "metadata": {},
   "source": [
    "# Sentence 버전 #4 : 느긋한 구현"
   ]
  },
  {
   "cell_type": "code",
   "execution_count": 17,
   "metadata": {},
   "outputs": [],
   "source": [
    "import re\n",
    "import reprlib\n",
    "\n",
    "RE_WORD = re.compile('\\w+')\n",
    "\n",
    "class Sentence :\n",
    "    def __init__(self, text) :\n",
    "        self.text = text\n",
    "        \n",
    "    def __repr__(self) :\n",
    "        return f'Sentence({self.text})'\n",
    "    \n",
    "    # words 를 미리 만들지 않고 호출될 경우 하나씩 찾는다. -> 메모리 절약\n",
    "    def __iter__(self) :\n",
    "        for match in RE_WORD.finditer(self.text) :\n",
    "            yield match.group()"
   ]
  },
  {
   "cell_type": "code",
   "execution_count": 16,
   "metadata": {},
   "outputs": [
    {
     "name": "stdout",
     "output_type": "stream",
     "text": [
      "Lorem\n",
      "ipsum\n",
      "dolor\n",
      "sit\n",
      "amet\n"
     ]
    }
   ],
   "source": [
    "sentence = Sentence(\"Lorem ipsum dolor sit amet.\")\n",
    "for word in sentence :\n",
    "    print(word)"
   ]
  },
  {
   "cell_type": "markdown",
   "metadata": {},
   "source": [
    "# Sentence 버전 #5 : 제너레이터 표현식"
   ]
  },
  {
   "cell_type": "code",
   "execution_count": 20,
   "metadata": {},
   "outputs": [],
   "source": [
    "import re\n",
    "import reprlib\n",
    "\n",
    "RE_WORD = re.compile('\\w+')\n",
    "\n",
    "class Sentence :\n",
    "    def __init__(self, text) :\n",
    "        self.text = text\n",
    "        \n",
    "    def __repr__(self) :\n",
    "        return f'Sentence({self.text})'\n",
    "    \n",
    "    # words 를 미리 만들지 않고 호출될 경우 하나씩 찾는다. -> 메모리 절약\n",
    "    def __iter__(self) :\n",
    "        return (match.group() for match in RE_WORD.finditer(self.text))"
   ]
  },
  {
   "cell_type": "code",
   "execution_count": 21,
   "metadata": {},
   "outputs": [
    {
     "name": "stdout",
     "output_type": "stream",
     "text": [
      "Lorem\n",
      "ipsum\n",
      "dolor\n",
      "sit\n",
      "amet\n"
     ]
    }
   ],
   "source": [
    "sentence = Sentence(\"Lorem ipsum dolor sit amet.\")\n",
    "for word in sentence :\n",
    "    print(word)"
   ]
  },
  {
   "cell_type": "markdown",
   "metadata": {},
   "source": [
    "# 예제 : 등차수열 제너레이터"
   ]
  },
  {
   "cell_type": "code",
   "execution_count": 40,
   "metadata": {},
   "outputs": [],
   "source": [
    "class ArithmeticProgression :\n",
    "    def __init__(self, begin, step, end=None) :\n",
    "        self.begin = begin\n",
    "        self.step = step\n",
    "        self.end = end\n",
    "        \n",
    "    def __iter__(self) :\n",
    "        # 신기하게 형변환하기..\n",
    "        result = type(self.begin + self.step)(self.begin)\n",
    "        forever = self.end is None\n",
    "        index = 0\n",
    "        while forever or result < self.end :\n",
    "            yield result\n",
    "            \n",
    "            # 오차 누적을 줄이기 위해 result 에 self.step 을 더해나가지 않는다.\n",
    "            index += 1\n",
    "            result = self.begin + self.step * index"
   ]
  },
  {
   "cell_type": "code",
   "execution_count": 46,
   "metadata": {},
   "outputs": [
    {
     "name": "stdout",
     "output_type": "stream",
     "text": [
      "[0, 1, 2]\n",
      "[0.0, 0.5, 1.0, 1.5, 2.0, 2.5]\n",
      "[0.0, 0.3333333333333333, 0.6666666666666666]\n",
      "[Fraction(0, 1), Fraction(1, 3), Fraction(2, 3)]\n",
      "[Decimal('0'), Decimal('0.1'), Decimal('0.2')]\n",
      "0 0.1 0.2 0.3 0.4 0.5 0.6 0.7 0.8 0.9 1.0 "
     ]
    }
   ],
   "source": [
    "from decimal import Decimal\n",
    "from fractions import Fraction\n",
    "\n",
    "\n",
    "ap = ArithmeticProgression(0,1,3)\n",
    "print(list(ap))\n",
    "\n",
    "ap = ArithmeticProgression(0,0.5,3)\n",
    "print(list(ap))\n",
    "\n",
    "ap = ArithmeticProgression(0,1/3,1)\n",
    "print(list(ap))\n",
    "\n",
    "ap = ArithmeticProgression(0, Fraction(1,3), 1)\n",
    "print(list(ap))\n",
    "\n",
    "ap = ArithmeticProgression(0, Decimal('.1'), 0.3)\n",
    "print(list(ap))\n",
    "\n",
    "for x in ArithmeticProgression(0, Decimal('.1')) :\n",
    "    if x > 1 : break\n",
    "    print(x, end=' ')"
   ]
  },
  {
   "cell_type": "code",
   "execution_count": null,
   "metadata": {},
   "outputs": [],
   "source": []
  }
 ],
 "metadata": {
  "kernelspec": {
   "display_name": "Python 3.10.2 64-bit",
   "language": "python",
   "name": "python3"
  },
  "language_info": {
   "codemirror_mode": {
    "name": "ipython",
    "version": 3
   },
   "file_extension": ".py",
   "mimetype": "text/x-python",
   "name": "python",
   "nbconvert_exporter": "python",
   "pygments_lexer": "ipython3",
   "version": "3.10.2"
  },
  "orig_nbformat": 4,
  "vscode": {
   "interpreter": {
    "hash": "369f2c481f4da34e4445cda3fffd2e751bd1c4d706f27375911949ba6bb62e1c"
   }
  }
 },
 "nbformat": 4,
 "nbformat_minor": 2
}
