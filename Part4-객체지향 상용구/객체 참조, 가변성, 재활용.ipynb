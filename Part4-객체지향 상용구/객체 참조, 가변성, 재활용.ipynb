{
 "cells": [
  {
   "cell_type": "markdown",
   "metadata": {},
   "source": [
    "# 변수가 객체에 할당 되었다. vs 객체가 변수에 할당 되었다.\n",
    "### 할당 (assignment - 대입, 저장)\n",
    "\n",
    "```python\n",
    "x = 1\n",
    "```\n",
    "x는 1이라는 객체를 가르키고 있는 것이다.<br>\n",
    "x라는 변수가 1을 바인딩한다.<br>\n",
    "x라는 변수가 1이라는 객체에 할당되었다.\n",
    "\n"
   ]
  },
  {
   "cell_type": "code",
   "execution_count": 20,
   "metadata": {},
   "outputs": [
    {
     "name": "stdout",
     "output_type": "stream",
     "text": [
      "Gizmo id : 4362146672\n",
      "Gizmo id : 4362147824\n",
      "True\n",
      "False\n",
      "True\n",
      "True\n"
     ]
    }
   ],
   "source": [
    "class Gizmo:\n",
    "    def __init__(self) :\n",
    "        print(f\"Gizmo id : {id(self)}\")\n",
    "    \n",
    "x = Gizmo()\n",
    "y = Gizmo()\n",
    "\n",
    "x = [1,2,3]\n",
    "y = [1,2,3]\n",
    "\n",
    "print(x == y)\n",
    "print(x is y)\n",
    "\n",
    "x = [1,2,3]\n",
    "y = x\n",
    "\n",
    "print(x == y)\n",
    "print(x is y)"
   ]
  },
  {
   "cell_type": "markdown",
   "metadata": {},
   "source": [
    "# 튜블의 상대적 불변성\n",
    "### 이 성질 때문에 일부 튜플은 해쉬 불가능하다."
   ]
  },
  {
   "cell_type": "code",
   "execution_count": 21,
   "metadata": {},
   "outputs": [
    {
     "name": "stdout",
     "output_type": "stream",
     "text": [
      "t1 == t2 :  True\n",
      "t1 is t2 :  False\n",
      "after append 50\n",
      "t1 == t2 :  False\n",
      "t1 is t2 :  False\n"
     ]
    }
   ],
   "source": [
    "t1 = (1,2,[30,40])\n",
    "t2 = (1,2,[30,40])\n",
    "print(\"t1 == t2 : \", t1==t2)\n",
    "print(\"t1 is t2 : \", t1 is t2)\n",
    "\n",
    "print(\"after append 50\")\n",
    "t1[2].append(50)\n",
    "print(\"t1 == t2 : \", t1==t2)\n",
    "print(\"t1 is t2 : \", t1 is t2)"
   ]
  },
  {
   "cell_type": "code",
   "execution_count": 22,
   "metadata": {},
   "outputs": [
    {
     "name": "stdout",
     "output_type": "stream",
     "text": [
      "True\n",
      "True\n",
      "False\n",
      "True\n",
      "False\n",
      "True\n"
     ]
    }
   ],
   "source": [
    "l1 = [1,[2,3]]\n",
    "l2 = l1\n",
    "print(l1 is l2)\n",
    "print(l1[1] is l2[1])\n",
    "\n",
    "#얕은 복사\n",
    "l2 = l1[:]\n",
    "print(l1 is l2)\n",
    "print(l1[1] is l2[1])\n",
    "\n",
    "l2 = list(l1)\n",
    "print(l1 is l2)\n",
    "print(l1[1] is l2[1])"
   ]
  },
  {
   "cell_type": "code",
   "execution_count": 23,
   "metadata": {},
   "outputs": [
    {
     "name": "stdout",
     "output_type": "stream",
     "text": [
      "False\n",
      "False\n"
     ]
    }
   ],
   "source": [
    "# 깊은 복사\n",
    "import copy\n",
    "l2 = copy.deepcopy(l1)\n",
    "print(l1 is l2)\n",
    "print(l1[1] is l2[1])"
   ]
  },
  {
   "cell_type": "code",
   "execution_count": 24,
   "metadata": {},
   "outputs": [
    {
     "name": "stdout",
     "output_type": "stream",
     "text": [
      "['A', 'B', 'C']\n",
      "['A', 'B', 'C']\n",
      "['A', 'B', 'C', 'D']\n"
     ]
    }
   ],
   "source": [
    "# 객체에서의 복사\n",
    "class Bus :\n",
    "    \n",
    "    def __init__(self, passengers=None) :\n",
    "        if passengers is None :\n",
    "            self.passengers = []\n",
    "        else :\n",
    "            self.passengers = list(passengers)\n",
    "            \n",
    "    def pick(self, name) :\n",
    "        self.passengers.append(name)\n",
    "        \n",
    "    def drop(self, name) :\n",
    "        self.passengers.remove(name)\n",
    "        \n",
    "bus1 = Bus(['A','B','C','D'])\n",
    "#얕은 복사\n",
    "bus2 = copy.copy(bus1)\n",
    "#깊은 복사\n",
    "bus3 = copy.deepcopy(bus2)\n",
    "\n",
    "bus1.drop('D')\n",
    "\n",
    "print(bus1.passengers)\n",
    "print(bus2.passengers)\n",
    "print(bus3.passengers)"
   ]
  },
  {
   "cell_type": "markdown",
   "metadata": {},
   "source": [
    "## 가변값을 매개변수로 사용할 경우 발생할 수 있는 오류"
   ]
  },
  {
   "cell_type": "code",
   "execution_count": 45,
   "metadata": {},
   "outputs": [],
   "source": [
    "class HauntedBus:\n",
    "    \"\"\"유령 승객이 출몰하는 버스 모델\"\"\"\n",
    "    \n",
    "    # passengers 가 디폴트 값일 때 self.passengers 는 새로운 객체에 할당되는 것이 아니라\n",
    "    # 가변객체를 참조만 한다.\n",
    "    def __init__(self, passengers = []) :\n",
    "        # 에러 해결\n",
    "        # self.passengers = copy.deepcopy(passengers)\n",
    "        self.passengers = passengers\n",
    "    \n",
    "    def pick(self, name) :\n",
    "        self.passengers.append(name)\n",
    "        \n",
    "    def drop(self, name) :\n",
    "        self.passengers.remove(name)"
   ]
  },
  {
   "cell_type": "code",
   "execution_count": 46,
   "metadata": {},
   "outputs": [
    {
     "data": {
      "text/plain": [
       "['A', 'B']"
      ]
     },
     "execution_count": 46,
     "metadata": {},
     "output_type": "execute_result"
    }
   ],
   "source": [
    "bus1 = HauntedBus(['A','B'])\n",
    "bus1.passengers"
   ]
  },
  {
   "cell_type": "code",
   "execution_count": 47,
   "metadata": {},
   "outputs": [
    {
     "data": {
      "text/plain": [
       "['B', 'C']"
      ]
     },
     "execution_count": 47,
     "metadata": {},
     "output_type": "execute_result"
    }
   ],
   "source": [
    "bus1.pick('C')\n",
    "bus1.drop('A')\n",
    "bus1.passengers"
   ]
  },
  {
   "cell_type": "code",
   "execution_count": 48,
   "metadata": {},
   "outputs": [
    {
     "data": {
      "text/plain": [
       "['C']"
      ]
     },
     "execution_count": 48,
     "metadata": {},
     "output_type": "execute_result"
    }
   ],
   "source": [
    "bus2 = HauntedBus()\n",
    "bus2.pick('C')\n",
    "bus2.passengers"
   ]
  },
  {
   "cell_type": "code",
   "execution_count": 49,
   "metadata": {},
   "outputs": [
    {
     "data": {
      "text/plain": [
       "['C']"
      ]
     },
     "execution_count": 49,
     "metadata": {},
     "output_type": "execute_result"
    }
   ],
   "source": [
    "bus3 = HauntedBus()\n",
    "# 유령 등장\n",
    "bus3.passengers"
   ]
  },
  {
   "cell_type": "code",
   "execution_count": 50,
   "metadata": {},
   "outputs": [
    {
     "data": {
      "text/plain": [
       "['C', 'D']"
      ]
     },
     "execution_count": 50,
     "metadata": {},
     "output_type": "execute_result"
    }
   ],
   "source": [
    "bus3.pick('D')\n",
    "bus2.passengers"
   ]
  },
  {
   "cell_type": "code",
   "execution_count": 51,
   "metadata": {},
   "outputs": [
    {
     "data": {
      "text/plain": [
       "True"
      ]
     },
     "execution_count": 51,
     "metadata": {},
     "output_type": "execute_result"
    }
   ],
   "source": [
    "# 복사를 하지 않고 각각 클래스를 생성하였음에도 같은 객체를 가르키고 있다.\n",
    "bus2.passengers is bus3.passengers"
   ]
  },
  {
   "cell_type": "markdown",
   "metadata": {},
   "source": [
    "# del 메소드\n",
    "### del을 사용하면 객체가 제거되는 것이 아니라 참조가 제거된다.\n",
    "### 객체에 대한 참조가 0이 되면 객체도 제거된다."
   ]
  },
  {
   "cell_type": "code",
   "execution_count": 55,
   "metadata": {},
   "outputs": [
    {
     "name": "stdout",
     "output_type": "stream",
     "text": [
      "Gone with the wind...\n"
     ]
    }
   ],
   "source": [
    "import weakref\n",
    "\n",
    "# 한 객체에 2개의 참조가 있는 상태\n",
    "s1 = {1,2,3}\n",
    "s2 = s1\n",
    "\n",
    "def bye() :\n",
    "    print(\"Gone with the wind...\")\n",
    "    \n",
    "# 객체가 제거 되면 bye를 실행한다.\n",
    "ender = weakref.finalize(s1,bye)"
   ]
  },
  {
   "cell_type": "code",
   "execution_count": 56,
   "metadata": {},
   "outputs": [
    {
     "data": {
      "text/plain": [
       "True"
      ]
     },
     "execution_count": 56,
     "metadata": {},
     "output_type": "execute_result"
    }
   ],
   "source": [
    "# 객체는 제거되지 않았다. 참조만 제거되었다.\n",
    "del s1\n",
    "ender.alive"
   ]
  },
  {
   "cell_type": "code",
   "execution_count": 57,
   "metadata": {},
   "outputs": [
    {
     "name": "stdout",
     "output_type": "stream",
     "text": [
      "Gone with the wind...\n"
     ]
    }
   ],
   "source": [
    "# s2 가 다른 것을 참조하여 객체에 대한 참조가 0이 되어 제거된다.\n",
    "s2 = 10"
   ]
  },
  {
   "cell_type": "code",
   "execution_count": 58,
   "metadata": {},
   "outputs": [
    {
     "data": {
      "text/plain": [
       "False"
      ]
     },
     "execution_count": 58,
     "metadata": {},
     "output_type": "execute_result"
    }
   ],
   "source": [
    "ender.alive"
   ]
  },
  {
   "cell_type": "code",
   "execution_count": null,
   "metadata": {},
   "outputs": [],
   "source": []
  }
 ],
 "metadata": {
  "interpreter": {
   "hash": "b0fa6594d8f4cbf19f97940f81e996739fb7646882a419484c72d19e05852a7e"
  },
  "kernelspec": {
   "display_name": "Python 3.9.13 64-bit",
   "language": "python",
   "name": "python3"
  },
  "language_info": {
   "codemirror_mode": {
    "name": "ipython",
    "version": 3
   },
   "file_extension": ".py",
   "mimetype": "text/x-python",
   "name": "python",
   "nbconvert_exporter": "python",
   "pygments_lexer": "ipython3",
   "version": "3.9.13"
  },
  "orig_nbformat": 4
 },
 "nbformat": 4,
 "nbformat_minor": 2
}
