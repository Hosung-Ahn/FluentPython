{
 "cells": [
  {
   "cell_type": "markdown",
   "metadata": {},
   "source": [
    "# 변수가 객체에 할당 되었다. vs 객체가 변수에 할당 되었다.\n",
    "### 할당 (assignment - 대입, 저장)\n",
    "\n",
    "```python\n",
    "x = 1\n",
    "```\n",
    "x는 1이라는 객체를 가르키고 있는 것이다.<br>\n",
    "x라는 변수가 1을 바인딩한다.<br>\n",
    "x라는 변수가 1이라는 객체에 할당되었다.\n",
    "\n"
   ]
  },
  {
   "cell_type": "code",
   "execution_count": 6,
   "metadata": {},
   "outputs": [
    {
     "name": "stdout",
     "output_type": "stream",
     "text": [
      "Gizmo id : 4424017136\n",
      "Gizmo id : 4424016368\n",
      "True\n",
      "False\n",
      "True\n",
      "True\n"
     ]
    }
   ],
   "source": [
    "class Gizmo:\n",
    "    def __init__(self) :\n",
    "        print(f\"Gizmo id : {id(self)}\")\n",
    "    \n",
    "x = Gizmo()\n",
    "y = Gizmo()\n",
    "\n",
    "x = [1,2,3]\n",
    "y = [1,2,3]\n",
    "\n",
    "print(x == y)\n",
    "print(x is y)\n",
    "\n",
    "x = [1,2,3]\n",
    "y = x\n",
    "\n",
    "print(x == y)\n",
    "print(x is y)"
   ]
  },
  {
   "cell_type": "markdown",
   "metadata": {},
   "source": [
    "# 튜블의 상대적 불변성\n",
    "### 이 성질 때문에 일부 튜플은 해쉬 불가능하다."
   ]
  },
  {
   "cell_type": "code",
   "execution_count": 12,
   "metadata": {},
   "outputs": [
    {
     "name": "stdout",
     "output_type": "stream",
     "text": [
      "t1 == t2 :  True\n",
      "t1 is t2 :  False\n",
      "after append 50\n",
      "t1 == t2 :  False\n",
      "t1 is t2 :  False\n"
     ]
    }
   ],
   "source": [
    "t1 = (1,2,[30,40])\n",
    "t2 = (1,2,[30,40])\n",
    "print(\"t1 == t2 : \", t1==t2)\n",
    "print(\"t1 is t2 : \", t1 is t2)\n",
    "\n",
    "print(\"after append 50\")\n",
    "t1[2].append(50)\n",
    "print(\"t1 == t2 : \", t1==t2)\n",
    "print(\"t1 is t2 : \", t1 is t2)"
   ]
  }
 ],
 "metadata": {
  "interpreter": {
   "hash": "b0fa6594d8f4cbf19f97940f81e996739fb7646882a419484c72d19e05852a7e"
  },
  "kernelspec": {
   "display_name": "Python 3.9.13 64-bit",
   "language": "python",
   "name": "python3"
  },
  "language_info": {
   "codemirror_mode": {
    "name": "ipython",
    "version": 3
   },
   "file_extension": ".py",
   "mimetype": "text/x-python",
   "name": "python",
   "nbconvert_exporter": "python",
   "pygments_lexer": "ipython3",
   "version": "3.9.13"
  },
  "orig_nbformat": 4
 },
 "nbformat": 4,
 "nbformat_minor": 2
}
