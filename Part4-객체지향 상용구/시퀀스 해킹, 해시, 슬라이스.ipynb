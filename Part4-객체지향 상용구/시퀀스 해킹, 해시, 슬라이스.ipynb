{
 "cells": [
  {
   "cell_type": "markdown",
   "metadata": {},
   "source": [
    "# 개선된 Vector 객체\n",
    "## 사용자 정의 시퀀스형"
   ]
  },
  {
   "cell_type": "code",
   "execution_count": 14,
   "metadata": {},
   "outputs": [],
   "source": [
    "\n",
    "from array import array\n",
    "import math\n",
    "import reprlib\n",
    "\n",
    "class Vector :\n",
    "    typecode ='d'\n",
    "\n",
    "    # 시퀀스형 객체를 입력받아서 Vector를 생성하기.\n",
    "    def __init__(self, components) :\n",
    "        self._components = array(self.typecode, components)\n",
    "    \n",
    "    def __iter__(self) :\n",
    "        return iter(self._components)\n",
    "        \n",
    "    def __repr__(self) :\n",
    "        # reprlib 은 components 를 제한된 길이로 출력한다.\n",
    "        components = reprlib.repr(self._components)\n",
    "        components = components[components.find('['):-1]\n",
    "        return f\"Vector({components})\"\n",
    "    \n",
    "    def __str__(self) :\n",
    "        return str(tuple(self))\n",
    "    \n",
    "    def __bytes__(self) :\n",
    "        return bytes([ord(self.typecode)]) + bytes(self._components)\n",
    "    \n",
    "    def __eq__(self, other) :\n",
    "        return tuple(self) == tuple(other)\n",
    "    \n",
    "    # 유클리드 거리\n",
    "    def __abs__(self) :\n",
    "        return math.sqrt(sum(x * x for x in self))\n",
    "    \n",
    "    # abs가 0이면 False 나머지는 True\n",
    "    def __bool__(self) :\n",
    "        return bool(abs(self))\n",
    "    \n",
    "    def __complex__(self) :\n",
    "        return complex(self.x, self.y)\n",
    "    \n",
    "    #classmethod는 첫번째 함수로 자신의 클래스를 받는다.\n",
    "    @classmethod\n",
    "    def frombytes(cls, octets) :\n",
    "        typecode = chr(octets[0])\n",
    "        # memoryview 는 구조체를 복사하지 않고 메모리를 공유할 수 있게 해준다.\n",
    "        memv = memoryview(octets[1:]).cast(typecode)\n",
    "        return cls(memv)"
   ]
  },
  {
   "cell_type": "code",
   "execution_count": 16,
   "metadata": {},
   "outputs": [
    {
     "data": {
      "text/plain": [
       "Vector([3.1, 4.2])"
      ]
     },
     "execution_count": 16,
     "metadata": {},
     "output_type": "execute_result"
    }
   ],
   "source": [
    "Vector([3.1, 4.2])"
   ]
  },
  {
   "cell_type": "code",
   "execution_count": 18,
   "metadata": {},
   "outputs": [
    {
     "data": {
      "text/plain": [
       "Vector([3.0, 4.0, 5.0])"
      ]
     },
     "execution_count": 18,
     "metadata": {},
     "output_type": "execute_result"
    }
   ],
   "source": [
    "Vector((3,4,5))"
   ]
  },
  {
   "cell_type": "code",
   "execution_count": 19,
   "metadata": {},
   "outputs": [
    {
     "data": {
      "text/plain": [
       "Vector([0.0, 1.0, 2.0, 3.0, 4.0, ...])"
      ]
     },
     "execution_count": 19,
     "metadata": {},
     "output_type": "execute_result"
    }
   ],
   "source": [
    "Vector(range(10))"
   ]
  }
 ],
 "metadata": {
  "kernelspec": {
   "display_name": "Python 3.10.2 64-bit",
   "language": "python",
   "name": "python3"
  },
  "language_info": {
   "codemirror_mode": {
    "name": "ipython",
    "version": 3
   },
   "file_extension": ".py",
   "mimetype": "text/x-python",
   "name": "python",
   "nbconvert_exporter": "python",
   "pygments_lexer": "ipython3",
   "version": "3.10.2"
  },
  "orig_nbformat": 4,
  "vscode": {
   "interpreter": {
    "hash": "369f2c481f4da34e4445cda3fffd2e751bd1c4d706f27375911949ba6bb62e1c"
   }
  }
 },
 "nbformat": 4,
 "nbformat_minor": 2
}
