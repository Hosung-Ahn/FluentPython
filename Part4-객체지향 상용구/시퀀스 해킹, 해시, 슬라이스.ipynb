{
 "cells": [
  {
   "cell_type": "markdown",
   "metadata": {},
   "source": [
    "# 개선된 Vector 객체\n",
    "## 사용자 정의 시퀀스형"
   ]
  },
  {
   "cell_type": "code",
   "execution_count": 1,
   "metadata": {},
   "outputs": [],
   "source": [
    "\n",
    "from array import array\n",
    "import math\n",
    "import reprlib\n",
    "\n",
    "class Vector :\n",
    "    typecode ='d'\n",
    "\n",
    "    # 시퀀스형 객체를 입력받아서 Vector를 생성하기.\n",
    "    def __init__(self, components) :\n",
    "        self._components = array(self.typecode, components)\n",
    "    \n",
    "    def __iter__(self) :\n",
    "        return iter(self._components)\n",
    "        \n",
    "    def __repr__(self) :\n",
    "        # reprlib 은 components 를 제한된 길이로 출력한다.\n",
    "        components = reprlib.repr(self._components)\n",
    "        components = components[components.find('['):-1]\n",
    "        return f\"Vector({components})\"\n",
    "    \n",
    "    def __str__(self) :\n",
    "        return str(tuple(self))\n",
    "    \n",
    "    def __bytes__(self) :\n",
    "        return bytes([ord(self.typecode)]) + bytes(self._components)\n",
    "    \n",
    "    def __eq__(self, other) :\n",
    "        return tuple(self) == tuple(other)\n",
    "    \n",
    "    # 유클리드 거리\n",
    "    def __abs__(self) :\n",
    "        return math.sqrt(sum(x * x for x in self))\n",
    "    \n",
    "    # abs가 0이면 False 나머지는 True\n",
    "    def __bool__(self) :\n",
    "        return bool(abs(self))\n",
    "    \n",
    "    def __complex__(self) :\n",
    "        return complex(self.x, self.y)\n",
    "    \n",
    "    #classmethod는 첫번째 함수로 자신의 클래스를 받는다.\n",
    "    @classmethod\n",
    "    def frombytes(cls, octets) :\n",
    "        typecode = chr(octets[0])\n",
    "        # memoryview 는 구조체를 복사하지 않고 메모리를 공유할 수 있게 해준다.\n",
    "        memv = memoryview(octets[1:]).cast(typecode)\n",
    "        return cls(memv)"
   ]
  },
  {
   "cell_type": "code",
   "execution_count": 2,
   "metadata": {},
   "outputs": [
    {
     "data": {
      "text/plain": [
       "Vector([3.1, 4.2])"
      ]
     },
     "execution_count": 2,
     "metadata": {},
     "output_type": "execute_result"
    }
   ],
   "source": [
    "Vector([3.1, 4.2])"
   ]
  },
  {
   "cell_type": "code",
   "execution_count": 3,
   "metadata": {},
   "outputs": [
    {
     "data": {
      "text/plain": [
       "Vector([3.0, 4.0, 5.0])"
      ]
     },
     "execution_count": 3,
     "metadata": {},
     "output_type": "execute_result"
    }
   ],
   "source": [
    "Vector((3,4,5))"
   ]
  },
  {
   "cell_type": "code",
   "execution_count": 4,
   "metadata": {},
   "outputs": [
    {
     "data": {
      "text/plain": [
       "Vector([0.0, 1.0, 2.0, 3.0, 4.0, ...])"
      ]
     },
     "execution_count": 4,
     "metadata": {},
     "output_type": "execute_result"
    }
   ],
   "source": [
    "Vector(range(10))"
   ]
  },
  {
   "cell_type": "markdown",
   "metadata": {},
   "source": [
    "## 프로토콜과 덕 타이핑\n",
    "### 파이썬에서 프로토콜은 문서에만 정의되는 개념이다.\n",
    "### 예를 들어 시퀀스 프로토콜을 따른다면 단지 특별 메소드로 len 과 getitem을 정의하면 된다.\n",
    "### 이를 문법상으로 프토토콜을 따르고 있다는 것을 보여주지 않아도 된다. 따라서 프로토콜 전부를 구현할 필요도 없다.\n",
    "### 이러한 매커니즘을 덕 타이핑이라 한다."
   ]
  },
  {
   "cell_type": "code",
   "execution_count": 5,
   "metadata": {},
   "outputs": [
    {
     "name": "stdout",
     "output_type": "stream",
     "text": [
      "52\n",
      "[Card(rank='4', suit='spades'), Card(rank='5', suit='spades'), Card(rank='6', suit='spades')]\n"
     ]
    }
   ],
   "source": [
    "# 시퀀스 프로토콜을 따르는 객체\n",
    "import collections\n",
    "\n",
    "Card = collections.namedtuple('Card', ['rank', 'suit'])\n",
    "\n",
    "class FrenchDeck :\n",
    "    ranks = [str(n) for n in range(2,11)] + list('JQKA')\n",
    "    suits = 'spades diamonds clubs hearts'.split()\n",
    "    \n",
    "    def __init__(self) :\n",
    "        self._cards = [Card(rank, suit) for suit in self.suits for rank in self.ranks]\n",
    "        \n",
    "    def __len__(self) :\n",
    "        return len(self._cards)\n",
    "    \n",
    "    def __getitem__(self, position) :\n",
    "        return self._cards[position]\n",
    "    \n",
    "deck = FrenchDeck()\n",
    "print(len(deck))\n",
    "print(deck[2:5])"
   ]
  },
  {
   "cell_type": "markdown",
   "metadata": {},
   "source": [
    "## Vector 버전 #2 : 슬라이스 가능한 시퀀스"
   ]
  },
  {
   "cell_type": "code",
   "execution_count": 6,
   "metadata": {},
   "outputs": [],
   "source": [
    "\n",
    "from array import array\n",
    "import math\n",
    "import numbers\n",
    "import reprlib\n",
    "from typing import Type\n",
    "\n",
    "class Vector :\n",
    "    typecode ='d'\n",
    "\n",
    "    # 시퀀스형 객체를 입력받아서 Vector를 생성하기.\n",
    "    def __init__(self, components) :\n",
    "        self._components = array(self.typecode, components)\n",
    "    \n",
    "    def __iter__(self) :\n",
    "        return iter(self._components)\n",
    "        \n",
    "    def __repr__(self) :\n",
    "        # reprlib 은 components 를 제한된 길이로 출력한다.\n",
    "        components = reprlib.repr(self._components)\n",
    "        components = components[components.find('['):-1]\n",
    "        return f\"Vector({components})\"\n",
    "    \n",
    "    def __str__(self) :\n",
    "        return str(tuple(self))\n",
    "    \n",
    "    def __bytes__(self) :\n",
    "        return bytes([ord(self.typecode)]) + bytes(self._components)\n",
    "    \n",
    "    def __eq__(self, other) :\n",
    "        return tuple(self) == tuple(other)\n",
    "    \n",
    "    # 유클리드 거리\n",
    "    def __abs__(self) :\n",
    "        return math.sqrt(sum(x * x for x in self))\n",
    "    \n",
    "    # abs가 0이면 False 나머지는 True\n",
    "    def __bool__(self) :\n",
    "        return bool(abs(self))\n",
    "    \n",
    "    def __complex__(self) :\n",
    "        return complex(self.x, self.y)\n",
    "    \n",
    "    def __len__(self) :\n",
    "        return len(self._components)\n",
    "    \n",
    "    # 배열이 아니라 Vector 객체를 반환하게 하기\n",
    "    def __getitem__(self, index) :\n",
    "        cls = type(self)\n",
    "        # 시퀀스 객체라면 Vector 객체를 반환한다.\n",
    "        if isinstance(index, slice) :\n",
    "            return cls(self._components[index])\n",
    "        # indexing 이라면 Vector 객체를 반환하지 않고 인수만 반환한다.\n",
    "        elif isinstance(index, numbers.Integral) :\n",
    "            return self._components[index]\n",
    "        else :\n",
    "            msg = f'{cls.__name__} indices must be integers'\n",
    "            raise TypeError(msg)\n",
    "        \n",
    "    \n",
    "    #classmethod는 첫번째 함수로 자신의 클래스를 받는다.\n",
    "    @classmethod\n",
    "    def frombytes(cls, octets) :\n",
    "        typecode = chr(octets[0])\n",
    "        # memoryview 는 구조체를 복사하지 않고 메모리를 공유할 수 있게 해준다.\n",
    "        memv = memoryview(octets[1:]).cast(typecode)\n",
    "        return cls(memv)"
   ]
  },
  {
   "cell_type": "code",
   "execution_count": 7,
   "metadata": {},
   "outputs": [
    {
     "data": {
      "text/plain": [
       "3"
      ]
     },
     "execution_count": 7,
     "metadata": {},
     "output_type": "execute_result"
    }
   ],
   "source": [
    "v1 = Vector([3,4,5])\n",
    "len(v1)"
   ]
  },
  {
   "cell_type": "code",
   "execution_count": 8,
   "metadata": {},
   "outputs": [
    {
     "data": {
      "text/plain": [
       "(3.0, 5.0)"
      ]
     },
     "execution_count": 8,
     "metadata": {},
     "output_type": "execute_result"
    }
   ],
   "source": [
    "v1[0], v1[-1]"
   ]
  },
  {
   "cell_type": "code",
   "execution_count": 9,
   "metadata": {},
   "outputs": [
    {
     "data": {
      "text/plain": [
       "Vector([1.0, 2.0, 3.0])"
      ]
     },
     "execution_count": 9,
     "metadata": {},
     "output_type": "execute_result"
    }
   ],
   "source": [
    "v7 = Vector(range(7))\n",
    "v7[1:4]"
   ]
  },
  {
   "cell_type": "markdown",
   "metadata": {},
   "source": [
    "## Vector 버전 #3 : 동적 속성 접근"
   ]
  },
  {
   "cell_type": "markdown",
   "metadata": {},
   "source": [
    "### \\_\\_getattr__\n",
    "- my_obj.x 표현식이 주어지면 my_obj에 x 속성이 있는지 검사한다. 속성이 없으면 삭송 그래프를 따로 올라가면서 검사한다.\n",
    "- 그래도 못 찾으면 \\_\\_get_attr__ 을 호출한다."
   ]
  },
  {
   "cell_type": "code",
   "execution_count": 10,
   "metadata": {},
   "outputs": [],
   "source": [
    "\n",
    "from array import array\n",
    "import math\n",
    "import reprlib\n",
    "\n",
    "class Vector :\n",
    "    typecode ='d'\n",
    "\n",
    "    # 시퀀스형 객체를 입력받아서 Vector를 생성하기.\n",
    "    def __init__(self, components) :\n",
    "        self._components = array(self.typecode, components)\n",
    "    \n",
    "    def __iter__(self) :\n",
    "        return iter(self._components)\n",
    "        \n",
    "    def __repr__(self) :\n",
    "        # reprlib 은 components 를 제한된 길이로 출력한다.\n",
    "        components = reprlib.repr(self._components)\n",
    "        components = components[components.find('['):-1]\n",
    "        return f\"Vector({components})\"\n",
    "    \n",
    "    shortcut_names = 'xyzt'\n",
    "    \n",
    "    def __getattr__(self, name) :\n",
    "        cls = type(self)\n",
    "        if len(name) == 1 :\n",
    "            pos = cls.shortcut_names.find(name)\n",
    "            if 0 <= pos < len(self._components) : \n",
    "                return self._components[pos]\n",
    "        msg = f\"{self.__name__} object has no attribute {name}\"\n",
    "        raise AttributeError(msg) \n",
    "    \n",
    "    def __str__(self) :\n",
    "        return str(tuple(self))\n",
    "    \n",
    "    def __bytes__(self) :\n",
    "        return bytes([ord(self.typecode)]) + bytes(self._components)\n",
    "    \n",
    "    def __eq__(self, other) :\n",
    "        return tuple(self) == tuple(other)\n",
    "    \n",
    "    # 유클리드 거리\n",
    "    def __abs__(self) :\n",
    "        return math.sqrt(sum(x * x for x in self))\n",
    "    \n",
    "    # abs가 0이면 False 나머지는 True\n",
    "    def __bool__(self) :\n",
    "        return bool(abs(self))\n",
    "    \n",
    "    def __complex__(self) :\n",
    "        return complex(self.x, self.y)\n",
    "    \n",
    "    #classmethod는 첫번째 함수로 자신의 클래스를 받는다.\n",
    "    @classmethod\n",
    "    def frombytes(cls, octets) :\n",
    "        typecode = chr(octets[0])\n",
    "        # memoryview 는 구조체를 복사하지 않고 메모리를 공유할 수 있게 해준다.\n",
    "        memv = memoryview(octets[1:]).cast(typecode)\n",
    "        return cls(memv)"
   ]
  },
  {
   "cell_type": "code",
   "execution_count": 11,
   "metadata": {},
   "outputs": [
    {
     "name": "stdout",
     "output_type": "stream",
     "text": [
      "0.0 1.0 2.0 3.0\n"
     ]
    }
   ],
   "source": [
    "v = Vector(range(5))\n",
    "print(v.x, v.y, v.z, v.t)"
   ]
  },
  {
   "cell_type": "code",
   "execution_count": 12,
   "metadata": {},
   "outputs": [
    {
     "name": "stdout",
     "output_type": "stream",
     "text": [
      "10\n",
      "(0.0, 1.0, 2.0, 3.0, 4.0)\n"
     ]
    }
   ],
   "source": [
    "# 발생할 수 있는 에러\n",
    "\n",
    "# v.x 에 10을 할당한다.\n",
    "v.x = 10\n",
    "# v.x 에는 10이 저장되어있다.\n",
    "print(v.x)\n",
    "# 하지만 v에는 0 이다.\n",
    "print(v)\n",
    "\n",
    "# v.x에 값이 새롭게 할당되면서 v.x는 v[0] 과 구분되는 새로운 속성이 되어버린것이다."
   ]
  },
  {
   "cell_type": "markdown",
   "metadata": {},
   "source": [
    "## \\_\\_setattr__"
   ]
  },
  {
   "cell_type": "code",
   "execution_count": 13,
   "metadata": {},
   "outputs": [],
   "source": [
    "\n",
    "from array import array\n",
    "import math\n",
    "import reprlib\n",
    "\n",
    "class Vector :\n",
    "    typecode ='d'\n",
    "\n",
    "    # 시퀀스형 객체를 입력받아서 Vector를 생성하기.\n",
    "    def __init__(self, components) :\n",
    "        self._components = array(self.typecode, components)\n",
    "    \n",
    "    def __iter__(self) :\n",
    "        return iter(self._components)\n",
    "        \n",
    "    def __repr__(self) :\n",
    "        # reprlib 은 components 를 제한된 길이로 출력한다.\n",
    "        components = reprlib.repr(self._components)\n",
    "        components = components[components.find('['):-1]\n",
    "        return f\"Vector({components})\"\n",
    "    \n",
    "    shortcut_names = 'xyzt'\n",
    "    \n",
    "    def __getattr__(self, name) :\n",
    "        cls = type(self)\n",
    "        if len(name) == 1 :\n",
    "            pos = cls.shortcut_names.find(name)\n",
    "            if 0 <= pos < len(self._components) : \n",
    "                return self._components[pos]\n",
    "        msg = f\"{cls.__name__} object has no attribute {name}\"\n",
    "        raise AttributeError(msg) \n",
    "        \n",
    "    # 생성자와 같은 기타 모든 속성을 할당할 때 사용되므로 주의하자\n",
    "    def __setattr__(self, name, value) :\n",
    "        cls = type(self)\n",
    "        if len(name) == 1 :\n",
    "            if name in cls.shortcut_names :\n",
    "                error = f'readonly attribute {name}'\n",
    "            elif name.islower() :\n",
    "                error = f\"can't set attributes 'a' to 'z' in {cls.__name__}\"\n",
    "            else :\n",
    "                error = ''\n",
    "            if error :\n",
    "                raise AttributeError(error)\n",
    "            \n",
    "        # super()은 메타 Vector ..?? \n",
    "        super().__setattr__(name, value)\n",
    "    \n",
    "    def __str__(self) :\n",
    "        return str(tuple(self))\n",
    "    \n",
    "    def __bytes__(self) :\n",
    "        return bytes([ord(self.typecode)]) + bytes(self._components)\n",
    "    \n",
    "    def __eq__(self, other) :\n",
    "        return tuple(self) == tuple(other)\n",
    "    \n",
    "    # 유클리드 거리\n",
    "    def __abs__(self) :\n",
    "        return math.sqrt(sum(x * x for x in self))\n",
    "    \n",
    "    # abs가 0이면 False 나머지는 True\n",
    "    def __bool__(self) :\n",
    "        return bool(abs(self))\n",
    "    \n",
    "    def __complex__(self) :\n",
    "        return complex(self.x, self.y)\n",
    "    \n",
    "    #classmethod는 첫번째 함수로 자신의 클래스를 받는다.\n",
    "    @classmethod\n",
    "    def frombytes(cls, octets) :\n",
    "        typecode = chr(octets[0])\n",
    "        # memoryview 는 구조체를 복사하지 않고 메모리를 공유할 수 있게 해준다.\n",
    "        memv = memoryview(octets[1:]).cast(typecode)\n",
    "        return cls(memv)"
   ]
  },
  {
   "cell_type": "code",
   "execution_count": 14,
   "metadata": {},
   "outputs": [
    {
     "name": "stdout",
     "output_type": "stream",
     "text": [
      "1.0\n",
      "readonly attribute x\n"
     ]
    }
   ],
   "source": [
    "v = Vector([1,2,3])\n",
    "print(v.x)\n",
    "\n",
    "try : \n",
    "    v.x = 10\n",
    "except AttributeError as e :\n",
    "    print(e)"
   ]
  },
  {
   "cell_type": "markdown",
   "metadata": {},
   "source": [
    "## Vector 버전 #4 : 해싱 및 더 빠른 =="
   ]
  },
  {
   "cell_type": "code",
   "execution_count": 19,
   "metadata": {},
   "outputs": [],
   "source": [
    "\n",
    "from array import array\n",
    "import math\n",
    "import reprlib\n",
    "import functools\n",
    "import operator\n",
    "\n",
    "class Vector :\n",
    "    typecode ='d'\n",
    "\n",
    "    # 시퀀스형 객체를 입력받아서 Vector를 생성하기.\n",
    "    def __init__(self, components) :\n",
    "        self._components = array(self.typecode, components)\n",
    "    \n",
    "    def __iter__(self) :\n",
    "        return iter(self._components)\n",
    "    \n",
    "    def __len__(self) :\n",
    "        return len(self._components)\n",
    "        \n",
    "    def __repr__(self) :\n",
    "        # reprlib 은 components 를 제한된 길이로 출력한다.\n",
    "        components = reprlib.repr(self._components)\n",
    "        components = components[components.find('['):-1]\n",
    "        return f\"Vector({components})\"\n",
    "    \n",
    "    shortcut_names = 'xyzt'\n",
    "    \n",
    "    def __getattr__(self, name) :\n",
    "        cls = type(self)\n",
    "        if len(name) == 1 :\n",
    "            pos = cls.shortcut_names.find(name)\n",
    "            if 0 <= pos < len(self._components) : \n",
    "                return self._components[pos]\n",
    "        msg = f\"{cls.__name__} object has no attribute {name}\"\n",
    "        raise AttributeError(msg) \n",
    "        \n",
    "    # 생성자와 같은 기타 모든 속성을 할당할 때 사용되므로 주의하자\n",
    "    def __setattr__(self, name, value) :\n",
    "        cls = type(self)\n",
    "        if len(name) == 1 :\n",
    "            if name in cls.shortcut_names :\n",
    "                error = f'readonly attribute {name}'\n",
    "            elif name.islower() :\n",
    "                error = f\"can't set attributes 'a' to 'z' in {cls.__name__}\"\n",
    "            else :\n",
    "                error = ''\n",
    "            if error :\n",
    "                raise AttributeError(error)\n",
    "            \n",
    "        # super()은 메타 Vector ..?? \n",
    "        super().__setattr__(name, value)\n",
    "    \n",
    "    def __str__(self) :\n",
    "        return str(tuple(self))\n",
    "    \n",
    "    def __bytes__(self) :\n",
    "        return bytes([ord(self.typecode)]) + bytes(self._components)\n",
    "    \n",
    "    def __eq__(self, other) :\n",
    "        return len(self) == len(other) and all(a == b for a,b in zip(self._components, other._components))\n",
    "    \n",
    "    def __hash__(self) :\n",
    "        hashes = map(hash, self._components)\n",
    "        return functools.reduce(operator.xor, hashes, 0)\n",
    "        \n",
    "    \n",
    "    # 유클리드 거리\n",
    "    def __abs__(self) :\n",
    "        return math.sqrt(sum(x * x for x in self))\n",
    "    \n",
    "    # abs가 0이면 False 나머지는 True\n",
    "    def __bool__(self) :\n",
    "        return bool(abs(self))\n",
    "    \n",
    "    def __complex__(self) :\n",
    "        return complex(self.x, self.y)\n",
    "    \n",
    "    #classmethod는 첫번째 함수로 자신의 클래스를 받는다.\n",
    "    @classmethod\n",
    "    def frombytes(cls, octets) :\n",
    "        typecode = chr(octets[0])\n",
    "        # memoryview 는 구조체를 복사하지 않고 메모리를 공유할 수 있게 해준다.\n",
    "        memv = memoryview(octets[1:]).cast(typecode)\n",
    "        return cls(memv)"
   ]
  },
  {
   "cell_type": "code",
   "execution_count": 22,
   "metadata": {},
   "outputs": [
    {
     "data": {
      "text/plain": [
       "True"
      ]
     },
     "execution_count": 22,
     "metadata": {},
     "output_type": "execute_result"
    }
   ],
   "source": [
    "Vector([3,4]) == Vector([3,4])"
   ]
  }
 ],
 "metadata": {
  "kernelspec": {
   "display_name": "Python 3.10.2 64-bit",
   "language": "python",
   "name": "python3"
  },
  "language_info": {
   "codemirror_mode": {
    "name": "ipython",
    "version": 3
   },
   "file_extension": ".py",
   "mimetype": "text/x-python",
   "name": "python",
   "nbconvert_exporter": "python",
   "pygments_lexer": "ipython3",
   "version": "3.10.2"
  },
  "orig_nbformat": 4,
  "vscode": {
   "interpreter": {
    "hash": "369f2c481f4da34e4445cda3fffd2e751bd1c4d706f27375911949ba6bb62e1c"
   }
  }
 },
 "nbformat": 4,
 "nbformat_minor": 2
}
