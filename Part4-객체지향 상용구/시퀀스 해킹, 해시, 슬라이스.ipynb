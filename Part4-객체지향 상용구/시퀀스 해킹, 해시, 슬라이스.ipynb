{
 "cells": [
  {
   "cell_type": "markdown",
   "metadata": {},
   "source": [
    "# 개선된 Vector 객체\n",
    "## 사용자 정의 시퀀스형"
   ]
  },
  {
   "cell_type": "code",
   "execution_count": 14,
   "metadata": {},
   "outputs": [],
   "source": [
    "\n",
    "from array import array\n",
    "import math\n",
    "import reprlib\n",
    "\n",
    "class Vector :\n",
    "    typecode ='d'\n",
    "\n",
    "    # 시퀀스형 객체를 입력받아서 Vector를 생성하기.\n",
    "    def __init__(self, components) :\n",
    "        self._components = array(self.typecode, components)\n",
    "    \n",
    "    def __iter__(self) :\n",
    "        return iter(self._components)\n",
    "        \n",
    "    def __repr__(self) :\n",
    "        # reprlib 은 components 를 제한된 길이로 출력한다.\n",
    "        components = reprlib.repr(self._components)\n",
    "        components = components[components.find('['):-1]\n",
    "        return f\"Vector({components})\"\n",
    "    \n",
    "    def __str__(self) :\n",
    "        return str(tuple(self))\n",
    "    \n",
    "    def __bytes__(self) :\n",
    "        return bytes([ord(self.typecode)]) + bytes(self._components)\n",
    "    \n",
    "    def __eq__(self, other) :\n",
    "        return tuple(self) == tuple(other)\n",
    "    \n",
    "    # 유클리드 거리\n",
    "    def __abs__(self) :\n",
    "        return math.sqrt(sum(x * x for x in self))\n",
    "    \n",
    "    # abs가 0이면 False 나머지는 True\n",
    "    def __bool__(self) :\n",
    "        return bool(abs(self))\n",
    "    \n",
    "    def __complex__(self) :\n",
    "        return complex(self.x, self.y)\n",
    "    \n",
    "    #classmethod는 첫번째 함수로 자신의 클래스를 받는다.\n",
    "    @classmethod\n",
    "    def frombytes(cls, octets) :\n",
    "        typecode = chr(octets[0])\n",
    "        # memoryview 는 구조체를 복사하지 않고 메모리를 공유할 수 있게 해준다.\n",
    "        memv = memoryview(octets[1:]).cast(typecode)\n",
    "        return cls(memv)"
   ]
  },
  {
   "cell_type": "code",
   "execution_count": 16,
   "metadata": {},
   "outputs": [
    {
     "data": {
      "text/plain": [
       "Vector([3.1, 4.2])"
      ]
     },
     "execution_count": 16,
     "metadata": {},
     "output_type": "execute_result"
    }
   ],
   "source": [
    "Vector([3.1, 4.2])"
   ]
  },
  {
   "cell_type": "code",
   "execution_count": 18,
   "metadata": {},
   "outputs": [
    {
     "data": {
      "text/plain": [
       "Vector([3.0, 4.0, 5.0])"
      ]
     },
     "execution_count": 18,
     "metadata": {},
     "output_type": "execute_result"
    }
   ],
   "source": [
    "Vector((3,4,5))"
   ]
  },
  {
   "cell_type": "code",
   "execution_count": 19,
   "metadata": {},
   "outputs": [
    {
     "data": {
      "text/plain": [
       "Vector([0.0, 1.0, 2.0, 3.0, 4.0, ...])"
      ]
     },
     "execution_count": 19,
     "metadata": {},
     "output_type": "execute_result"
    }
   ],
   "source": [
    "Vector(range(10))"
   ]
  },
  {
   "cell_type": "markdown",
   "metadata": {},
   "source": [
    "## 프로토콜과 덕 타이핑\n",
    "### 파이썬에서 프로토콜은 문서에만 정의되는 개념이다.\n",
    "### 예를 들어 시퀀스 프로토콜을 따른다면 단지 특별 메소드로 len 과 getitem을 정의하면 된다.\n",
    "### 이를 문법상으로 프토토콜을 따르고 있다는 것을 보여주지 않아도 된다. 따라서 프로토콜 전부를 구현할 필요도 없다.\n",
    "### 이러한 매커니즘을 덕 타이핑이라 한다."
   ]
  },
  {
   "cell_type": "code",
   "execution_count": 22,
   "metadata": {},
   "outputs": [
    {
     "name": "stdout",
     "output_type": "stream",
     "text": [
      "52\n",
      "[Card(rank='4', suit='spades'), Card(rank='5', suit='spades'), Card(rank='6', suit='spades')]\n"
     ]
    }
   ],
   "source": [
    "# 시퀀스 프로토콜을 따르는 객체\n",
    "import collections\n",
    "\n",
    "Card = collections.namedtuple('Card', ['rank', 'suit'])\n",
    "\n",
    "class FrenchDeck :\n",
    "    ranks = [str(n) for n in range(2,11)] + list('JQKA')\n",
    "    suits = 'spades diamonds clubs hearts'.split()\n",
    "    \n",
    "    def __init__(self) :\n",
    "        self._cards = [Card(rank, suit) for suit in self.suits for rank in self.ranks]\n",
    "        \n",
    "    def __len__(self) :\n",
    "        return len(self._cards)\n",
    "    \n",
    "    def __getitem__(self, position) :\n",
    "        return self._cards[position]\n",
    "    \n",
    "deck = FrenchDeck()\n",
    "print(len(deck))\n",
    "print(deck[2:5])"
   ]
  },
  {
   "cell_type": "markdown",
   "metadata": {},
   "source": [
    "## Vector 버전 #2 : 슬라이스 가능한 시퀀스"
   ]
  },
  {
   "cell_type": "code",
   "execution_count": 37,
   "metadata": {},
   "outputs": [],
   "source": [
    "\n",
    "from array import array\n",
    "import math\n",
    "import numbers\n",
    "import reprlib\n",
    "from typing import Type\n",
    "\n",
    "class Vector :\n",
    "    typecode ='d'\n",
    "\n",
    "    # 시퀀스형 객체를 입력받아서 Vector를 생성하기.\n",
    "    def __init__(self, components) :\n",
    "        self._components = array(self.typecode, components)\n",
    "    \n",
    "    def __iter__(self) :\n",
    "        return iter(self._components)\n",
    "        \n",
    "    def __repr__(self) :\n",
    "        # reprlib 은 components 를 제한된 길이로 출력한다.\n",
    "        components = reprlib.repr(self._components)\n",
    "        components = components[components.find('['):-1]\n",
    "        return f\"Vector({components})\"\n",
    "    \n",
    "    def __str__(self) :\n",
    "        return str(tuple(self))\n",
    "    \n",
    "    def __bytes__(self) :\n",
    "        return bytes([ord(self.typecode)]) + bytes(self._components)\n",
    "    \n",
    "    def __eq__(self, other) :\n",
    "        return tuple(self) == tuple(other)\n",
    "    \n",
    "    # 유클리드 거리\n",
    "    def __abs__(self) :\n",
    "        return math.sqrt(sum(x * x for x in self))\n",
    "    \n",
    "    # abs가 0이면 False 나머지는 True\n",
    "    def __bool__(self) :\n",
    "        return bool(abs(self))\n",
    "    \n",
    "    def __complex__(self) :\n",
    "        return complex(self.x, self.y)\n",
    "    \n",
    "    def __len__(self) :\n",
    "        return len(self._components)\n",
    "    \n",
    "    # 배열이 아니라 Vector 객체를 반환하게 하기\n",
    "    def __getitem__(self, index) :\n",
    "        cls = type(self)\n",
    "        # 시퀀스 객체라면 Vector 객체를 반환한다.\n",
    "        if isinstance(index, slice) :\n",
    "            return cls(self._components[index])\n",
    "        # indexing 이라면 Vector 객체를 반환하지 않고 인수만 반환한다.\n",
    "        elif isinstance(index, numbers.Integral) :\n",
    "            return self._components[index]\n",
    "        else :\n",
    "            msg = f'{cls.__name__} indices must be integers'\n",
    "            raise TypeError(msg)\n",
    "        \n",
    "    \n",
    "    #classmethod는 첫번째 함수로 자신의 클래스를 받는다.\n",
    "    @classmethod\n",
    "    def frombytes(cls, octets) :\n",
    "        typecode = chr(octets[0])\n",
    "        # memoryview 는 구조체를 복사하지 않고 메모리를 공유할 수 있게 해준다.\n",
    "        memv = memoryview(octets[1:]).cast(typecode)\n",
    "        return cls(memv)"
   ]
  },
  {
   "cell_type": "code",
   "execution_count": 38,
   "metadata": {},
   "outputs": [
    {
     "data": {
      "text/plain": [
       "3"
      ]
     },
     "execution_count": 38,
     "metadata": {},
     "output_type": "execute_result"
    }
   ],
   "source": [
    "v1 = Vector([3,4,5])\n",
    "len(v1)"
   ]
  },
  {
   "cell_type": "code",
   "execution_count": 39,
   "metadata": {},
   "outputs": [
    {
     "data": {
      "text/plain": [
       "(3.0, 5.0)"
      ]
     },
     "execution_count": 39,
     "metadata": {},
     "output_type": "execute_result"
    }
   ],
   "source": [
    "v1[0], v1[-1]"
   ]
  },
  {
   "cell_type": "code",
   "execution_count": 42,
   "metadata": {},
   "outputs": [
    {
     "data": {
      "text/plain": [
       "Vector([1.0, 2.0, 3.0])"
      ]
     },
     "execution_count": 42,
     "metadata": {},
     "output_type": "execute_result"
    }
   ],
   "source": [
    "v7 = Vector(range(7))\n",
    "v7[1:4]"
   ]
  },
  {
   "cell_type": "code",
   "execution_count": 44,
   "metadata": {},
   "outputs": [
    {
     "ename": "TypeError",
     "evalue": "Vector indices must be integers",
     "output_type": "error",
     "traceback": [
      "\u001b[1;31m---------------------------------------------------------------------------\u001b[0m",
      "\u001b[1;31mTypeError\u001b[0m                                 Traceback (most recent call last)",
      "\u001b[1;32mc:\\WorkSpace\\FluentPython\\Part4-객체지향 상용구\\시퀀스 해킹, 해시, 슬라이스.ipynb 셀 13\u001b[0m in \u001b[0;36m<module>\u001b[1;34m\u001b[0m\n\u001b[1;32m----> <a href='vscode-notebook-cell:/c%3A/WorkSpace/FluentPython/Part4-%EA%B0%9D%EC%B2%B4%EC%A7%80%ED%96%A5%20%EC%83%81%EC%9A%A9%EA%B5%AC/%EC%8B%9C%ED%80%80%EC%8A%A4%20%ED%95%B4%ED%82%B9%2C%20%ED%95%B4%EC%8B%9C%2C%20%EC%8A%AC%EB%9D%BC%EC%9D%B4%EC%8A%A4.ipynb#ch0000019?line=0'>1</a>\u001b[0m v7[\u001b[39m'\u001b[39;49m\u001b[39ma\u001b[39;49m\u001b[39m'\u001b[39;49m]\n",
      "\u001b[1;32mc:\\WorkSpace\\FluentPython\\Part4-객체지향 상용구\\시퀀스 해킹, 해시, 슬라이스.ipynb 셀 13\u001b[0m in \u001b[0;36mVector.__getitem__\u001b[1;34m(self, index)\u001b[0m\n\u001b[0;32m     <a href='vscode-notebook-cell:/c%3A/WorkSpace/FluentPython/Part4-%EA%B0%9D%EC%B2%B4%EC%A7%80%ED%96%A5%20%EC%83%81%EC%9A%A9%EA%B5%AC/%EC%8B%9C%ED%80%80%EC%8A%A4%20%ED%95%B4%ED%82%B9%2C%20%ED%95%B4%EC%8B%9C%2C%20%EC%8A%AC%EB%9D%BC%EC%9D%B4%EC%8A%A4.ipynb#ch0000019?line=54'>55</a>\u001b[0m \u001b[39melse\u001b[39;00m :\n\u001b[0;32m     <a href='vscode-notebook-cell:/c%3A/WorkSpace/FluentPython/Part4-%EA%B0%9D%EC%B2%B4%EC%A7%80%ED%96%A5%20%EC%83%81%EC%9A%A9%EA%B5%AC/%EC%8B%9C%ED%80%80%EC%8A%A4%20%ED%95%B4%ED%82%B9%2C%20%ED%95%B4%EC%8B%9C%2C%20%EC%8A%AC%EB%9D%BC%EC%9D%B4%EC%8A%A4.ipynb#ch0000019?line=55'>56</a>\u001b[0m     msg \u001b[39m=\u001b[39m \u001b[39mf\u001b[39m\u001b[39m'\u001b[39m\u001b[39m{\u001b[39;00m\u001b[39mcls\u001b[39m\u001b[39m.\u001b[39m\u001b[39m__name__\u001b[39m\u001b[39m}\u001b[39;00m\u001b[39m indices must be integers\u001b[39m\u001b[39m'\u001b[39m\n\u001b[1;32m---> <a href='vscode-notebook-cell:/c%3A/WorkSpace/FluentPython/Part4-%EA%B0%9D%EC%B2%B4%EC%A7%80%ED%96%A5%20%EC%83%81%EC%9A%A9%EA%B5%AC/%EC%8B%9C%ED%80%80%EC%8A%A4%20%ED%95%B4%ED%82%B9%2C%20%ED%95%B4%EC%8B%9C%2C%20%EC%8A%AC%EB%9D%BC%EC%9D%B4%EC%8A%A4.ipynb#ch0000019?line=56'>57</a>\u001b[0m     \u001b[39mraise\u001b[39;00m \u001b[39mTypeError\u001b[39;00m(msg)\n",
      "\u001b[1;31mTypeError\u001b[0m: Vector indices must be integers"
     ]
    }
   ],
   "source": [
    "v7['a']"
   ]
  }
 ],
 "metadata": {
  "kernelspec": {
   "display_name": "Python 3.10.2 64-bit",
   "language": "python",
   "name": "python3"
  },
  "language_info": {
   "codemirror_mode": {
    "name": "ipython",
    "version": 3
   },
   "file_extension": ".py",
   "mimetype": "text/x-python",
   "name": "python",
   "nbconvert_exporter": "python",
   "pygments_lexer": "ipython3",
   "version": "3.10.2"
  },
  "orig_nbformat": 4,
  "vscode": {
   "interpreter": {
    "hash": "369f2c481f4da34e4445cda3fffd2e751bd1c4d706f27375911949ba6bb62e1c"
   }
  }
 },
 "nbformat": 4,
 "nbformat_minor": 2
}
