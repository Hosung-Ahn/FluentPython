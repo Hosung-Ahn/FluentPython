{
 "cells": [
  {
   "cell_type": "markdown",
   "metadata": {},
   "source": [
    "# 벡터 클래스에 단항 연산자 추가 (-,+)"
   ]
  },
  {
   "cell_type": "code",
   "execution_count": 59,
   "metadata": {},
   "outputs": [],
   "source": [
    "\n",
    "from array import array\n",
    "import math\n",
    "import reprlib\n",
    "import functools\n",
    "import operator\n",
    "import itertools\n",
    "import numbers\n",
    "\n",
    "class Vector :\n",
    "    typecode ='d'\n",
    "\n",
    "    # 시퀀스형 객체를 입력받아서 Vector를 생성하기.\n",
    "    \n",
    "    def __init__(self, components) :\n",
    "        self._components = array(self.typecode, components)\n",
    "    \n",
    "    def __iter__(self) :\n",
    "        return iter(self._components)\n",
    "    \n",
    "    def __len__(self) :\n",
    "        return len(self._components)\n",
    "    \n",
    "    def __pos__(self) :\n",
    "        return Vector(self)\n",
    "    \n",
    "    def __neg__(self) :\n",
    "        return Vector(-x for x in self)\n",
    "        \n",
    "    def __repr__(self) :\n",
    "        # reprlib 은 components 를 제한된 길이로 출력한다.\n",
    "        components = reprlib.repr(self._components)\n",
    "        components = components[components.find('['):-1]\n",
    "        return f\"Vector({components})\"\n",
    "    \n",
    "    shortcut_names = 'xyzt'\n",
    "    \n",
    "    def __getattr__(self, name) :\n",
    "        cls = type(self)\n",
    "        if len(name) == 1 :\n",
    "            pos = cls.shortcut_names.find(name)\n",
    "            if 0 <= pos < len(self._components) : \n",
    "                return self._components[pos]\n",
    "        msg = f\"{cls.__name__} object has no attribute {name}\"\n",
    "        raise AttributeError(msg) \n",
    "        \n",
    "    # 생성자와 같은 기타 모든 속성을 할당할 때 사용되므로 주의하자\n",
    "    def __setattr__(self, name, value) :\n",
    "        cls = type(self)\n",
    "        if len(name) == 1 :\n",
    "            if name in cls.shortcut_names :\n",
    "                error = f'readonly attribute {name}'\n",
    "            elif name.islower() :\n",
    "                error = f\"can't set attributes 'a' to 'z' in {cls.__name__}\"\n",
    "            else :\n",
    "                error = ''\n",
    "            if error :\n",
    "                raise AttributeError(error)\n",
    "            \n",
    "        # super()은 메타 Vector ..?? \n",
    "        super().__setattr__(name, value)\n",
    "    \n",
    "    def __str__(self) :\n",
    "        return str(tuple(self))\n",
    "    \n",
    "    def __bytes__(self) :\n",
    "        return bytes([ord(self.typecode)]) + bytes(self._components)\n",
    "    \n",
    "    def __eq__(self, other) :\n",
    "        if isinstance(other, Vector) :\n",
    "            return (len(self) == len(other) and\n",
    "                    all(a == b for a,b, in zip(self, other)))\n",
    "        else :\n",
    "            return NotImplemented\n",
    "        \n",
    "        \n",
    "    def __hash__(self) :\n",
    "        hashes = map(hash, self._components)\n",
    "        return functools.reduce(operator.xor, hashes, 0)\n",
    "        \n",
    "    def __add__(self, other) :\n",
    "        pairs = itertools.zip_longest(self, other, fillvalue=0.0)\n",
    "        return Vector(a+b for a,b in pairs)\n",
    "    \n",
    "    def __radd__(self, other) :\n",
    "        return self + other\n",
    "    \n",
    "    # 유클리드 거리\n",
    "    def __abs__(self) :\n",
    "        return math.sqrt(sum(x * x for x in self))\n",
    "    \n",
    "    def __mul__(self, scalar) :\n",
    "        if isinstance(scalar, numbers.Real) :\n",
    "            return Vector(x * scalar for x in self)\n",
    "        else : \n",
    "            return NotImplemented\n",
    "    \n",
    "    def __rmul__(self, scalar) :\n",
    "        return self * scalar\n",
    "    \n",
    "    # abs가 0이면 False 나머지는 True\n",
    "    def __bool__(self) :\n",
    "        return bool(abs(self))\n",
    "    \n",
    "    def __complex__(self) :\n",
    "        return complex(self.x, self.y)\n",
    "    \n",
    "    #classmethod는 첫번째 함수로 자신의 클래스를 받는다.\n",
    "    @classmethod\n",
    "    def frombytes(cls, octets) :\n",
    "        typecode = chr(octets[0])\n",
    "        # memoryview 는 구조체를 복사하지 않고 메모리를 공유할 수 있게 해준다.\n",
    "        memv = memoryview(octets[1:]).cast(typecode)\n",
    "        return cls(memv)"
   ]
  },
  {
   "cell_type": "code",
   "execution_count": 60,
   "metadata": {},
   "outputs": [
    {
     "data": {
      "text/plain": [
       "Vector([7.0, 9.0, 6.0])"
      ]
     },
     "execution_count": 60,
     "metadata": {},
     "output_type": "execute_result"
    }
   ],
   "source": [
    "Vector([3,4,6]) + Vector([4,5])"
   ]
  },
  {
   "cell_type": "code",
   "execution_count": 61,
   "metadata": {},
   "outputs": [
    {
     "data": {
      "text/plain": [
       "Vector([11.0, 22.0, 3.0])"
      ]
     },
     "execution_count": 61,
     "metadata": {},
     "output_type": "execute_result"
    }
   ],
   "source": [
    "Vector([1,2,3]) + (10,20)"
   ]
  },
  {
   "cell_type": "code",
   "execution_count": 62,
   "metadata": {},
   "outputs": [
    {
     "data": {
      "text/plain": [
       "Vector([11.0, 22.0, 3.0])"
      ]
     },
     "execution_count": 62,
     "metadata": {},
     "output_type": "execute_result"
    }
   ],
   "source": [
    "(10,20) + Vector([1,2,3])"
   ]
  },
  {
   "cell_type": "code",
   "execution_count": 63,
   "metadata": {},
   "outputs": [
    {
     "data": {
      "text/plain": [
       "Vector([4.0, 8.0, 12.0])"
      ]
     },
     "execution_count": 63,
     "metadata": {},
     "output_type": "execute_result"
    }
   ],
   "source": [
    "Vector([1,2,3]) * 4"
   ]
  },
  {
   "cell_type": "code",
   "execution_count": 64,
   "metadata": {},
   "outputs": [
    {
     "data": {
      "text/plain": [
       "Vector([4.0, 8.0, 12.0])"
      ]
     },
     "execution_count": 64,
     "metadata": {},
     "output_type": "execute_result"
    }
   ],
   "source": [
    "4 * Vector([1,2,3])"
   ]
  }
 ],
 "metadata": {
  "kernelspec": {
   "display_name": "Python 3.10.2 64-bit",
   "language": "python",
   "name": "python3"
  },
  "language_info": {
   "codemirror_mode": {
    "name": "ipython",
    "version": 3
   },
   "file_extension": ".py",
   "mimetype": "text/x-python",
   "name": "python",
   "nbconvert_exporter": "python",
   "pygments_lexer": "ipython3",
   "version": "3.10.2"
  },
  "orig_nbformat": 4,
  "vscode": {
   "interpreter": {
    "hash": "369f2c481f4da34e4445cda3fffd2e751bd1c4d706f27375911949ba6bb62e1c"
   }
  }
 },
 "nbformat": 4,
 "nbformat_minor": 2
}
