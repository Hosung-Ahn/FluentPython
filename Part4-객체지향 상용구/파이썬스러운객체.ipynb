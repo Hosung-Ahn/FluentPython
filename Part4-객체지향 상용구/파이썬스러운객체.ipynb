{
 "cells": [
  {
   "cell_type": "markdown",
   "metadata": {},
   "source": [
    "# vector 자료구조"
   ]
  },
  {
   "cell_type": "code",
   "execution_count": 1,
   "metadata": {},
   "outputs": [],
   "source": [
    "from array import array\n",
    "import math\n",
    "\n",
    "class Vector2d :\n",
    "    typecode ='d'\n",
    "    \n",
    "    # '__' 는 사용자가 접근하게 막는 보안장치가 아니라 안전장치이다.\n",
    "    # 이 변수는 __dict__ 에 저장되어 접근 가능하다.\n",
    "    # 변수가 변하게 하고 싶지 않다면 대신 '_' 를 prefix로 사용하자. 이를 변경하지 않은 것은 파이썬 개발자 사이의 암묵적 약속이다.\n",
    "    def __init__(self, x,y) :\n",
    "        self.__x = float(x)\n",
    "        self.__y = float(y)\n",
    "        \n",
    "    # x,y를 일기 전용 속성으로 만든다.\n",
    "    @property\n",
    "    def x(self) :\n",
    "        return self.__x\n",
    "    @property\n",
    "    def y(self) :\n",
    "        return self.__y\n",
    "    \n",
    "    # __iter__ method 를 하면 Vector2d를 반복할 수 있고 이로써 언패킹이 가능하다.\n",
    "    def __iter__(self) :\n",
    "        return (i for i in (self.x, self.y))\n",
    "    \n",
    "    def __repr__(self) :\n",
    "        class_name = self.__class__.__name__\n",
    "        return f\"{class_name}({self.x}, {self.y})\"\n",
    "    \n",
    "    def __str__(self) :\n",
    "        return str(tuple(self))\n",
    "    \n",
    "    def __bytes__(self) :\n",
    "        return bytes([ord(self.typecode)]) + bytes(array(self.typecode, self))\n",
    "    \n",
    "    def __eq__(self, other) :\n",
    "        return tuple(self) == tuple(other)\n",
    "    \n",
    "    # 유클리드 거리\n",
    "    def __abs__(self) :\n",
    "        return math.hypot(self.x, self.y)\n",
    "    \n",
    "    # abs가 0이면 False 나머지는 True\n",
    "    def __bool__(self) :\n",
    "        return bool(abs(self))\n",
    "    \n",
    "    def __complex__(self) :\n",
    "        return complex(self.x, self.y)\n",
    "    \n",
    "    #classmethod는 첫번째 함수로 자신의 클래스를 받는다.\n",
    "    @classmethod\n",
    "    def frombytes(cls, octets) :\n",
    "        typecode = chr(octets[0])\n",
    "        # memoryview 는 구조체를 복사하지 않고 메모리를 공유할 수 있게 해준다.\n",
    "        memv = memoryview(octets[1:]).cast(typecode)\n",
    "        return cls(*memv)\n",
    "    \n",
    "    def angle(self):\n",
    "        return math.atan2(self.y, self.x)\n",
    "    \n",
    "    def __format__(self, fmt_spec='') :\n",
    "        if fmt_spec.endswith('p') :\n",
    "            fmt_spec = fmt_spec[:-1]\n",
    "            coords = (abs(self), self.angle())\n",
    "            outer_fmt = '<{}, {}>'\n",
    "        else :\n",
    "            coords = self\n",
    "            outer_fmt = '({}, {})'\n",
    "        components = (format(c, fmt_spec) for c in coords)\n",
    "        return outer_fmt.format(*components)\n",
    "    \n",
    "    def __hash__(self) :\n",
    "        # 클래스에 요소가 2개 이상이라면 각 요소의 해쉬의 배타곱이 권장된다.\n",
    "        return hash(self.x) ^ hash(self.y)"
   ]
  },
  {
   "cell_type": "code",
   "execution_count": 2,
   "metadata": {},
   "outputs": [
    {
     "name": "stdout",
     "output_type": "stream",
     "text": [
      "3.0 4.0\n"
     ]
    }
   ],
   "source": [
    "v1 = Vector2d(3,4)\n",
    "print(v1.x, v1.y)"
   ]
  },
  {
   "cell_type": "code",
   "execution_count": 3,
   "metadata": {},
   "outputs": [
    {
     "name": "stdout",
     "output_type": "stream",
     "text": [
      "3.0 4.0\n"
     ]
    }
   ],
   "source": [
    "x,y = v1\n",
    "print(x,y)"
   ]
  },
  {
   "cell_type": "code",
   "execution_count": 4,
   "metadata": {},
   "outputs": [
    {
     "data": {
      "text/plain": [
       "True"
      ]
     },
     "execution_count": 4,
     "metadata": {},
     "output_type": "execute_result"
    }
   ],
   "source": [
    "v1_clone = eval(repr(v1))\n",
    "v1 == v1_clone"
   ]
  },
  {
   "cell_type": "code",
   "execution_count": 5,
   "metadata": {},
   "outputs": [
    {
     "name": "stdout",
     "output_type": "stream",
     "text": [
      "(3.0, 4.0)\n"
     ]
    }
   ],
   "source": [
    "print(v1)"
   ]
  },
  {
   "cell_type": "code",
   "execution_count": 6,
   "metadata": {},
   "outputs": [
    {
     "name": "stdout",
     "output_type": "stream",
     "text": [
      "b'd\\x00\\x00\\x00\\x00\\x00\\x00\\x08@\\x00\\x00\\x00\\x00\\x00\\x00\\x10@'\n"
     ]
    },
    {
     "data": {
      "text/plain": [
       "Vector2d(3.0, 4.0)"
      ]
     },
     "execution_count": 6,
     "metadata": {},
     "output_type": "execute_result"
    }
   ],
   "source": [
    "octets = bytes(v1)\n",
    "print(octets)\n",
    "v1.frombytes(octets)"
   ]
  },
  {
   "cell_type": "code",
   "execution_count": 7,
   "metadata": {},
   "outputs": [
    {
     "data": {
      "text/plain": [
       "5.0"
      ]
     },
     "execution_count": 7,
     "metadata": {},
     "output_type": "execute_result"
    }
   ],
   "source": [
    "abs(v1)"
   ]
  },
  {
   "cell_type": "code",
   "execution_count": 8,
   "metadata": {},
   "outputs": [
    {
     "data": {
      "text/plain": [
       "(True, False)"
      ]
     },
     "execution_count": 8,
     "metadata": {},
     "output_type": "execute_result"
    }
   ],
   "source": [
    "bool(v1), bool(Vector2d(0,0))"
   ]
  },
  {
   "cell_type": "code",
   "execution_count": 9,
   "metadata": {},
   "outputs": [
    {
     "name": "stdout",
     "output_type": "stream",
     "text": [
      "(3.00, 4.00)\n"
     ]
    }
   ],
   "source": [
    "print(f\"{v1:0.2f}\")"
   ]
  },
  {
   "cell_type": "code",
   "execution_count": 10,
   "metadata": {},
   "outputs": [
    {
     "name": "stdout",
     "output_type": "stream",
     "text": [
      "<5.0, 0.9272952180016122>\n"
     ]
    }
   ],
   "source": [
    "print(f\"{v1:p}\")"
   ]
  },
  {
   "cell_type": "code",
   "execution_count": 11,
   "metadata": {},
   "outputs": [
    {
     "name": "stdout",
     "output_type": "stream",
     "text": [
      "<5.00, 0.93>\n"
     ]
    }
   ],
   "source": [
    "print(f\"{v1:0.2fp}\")"
   ]
  },
  {
   "cell_type": "code",
   "execution_count": 12,
   "metadata": {},
   "outputs": [
    {
     "data": {
      "text/plain": [
       "{Vector2d(3.0, 4.0), Vector2d(3.1, 4.2)}"
      ]
     },
     "execution_count": 12,
     "metadata": {},
     "output_type": "execute_result"
    }
   ],
   "source": [
    "v1 = Vector2d(3,4)\n",
    "v2 = Vector2d(3.1,4.2)\n",
    "hash(v1), hash(v2)\n",
    "set([v1,v2])"
   ]
  },
  {
   "cell_type": "code",
   "execution_count": 13,
   "metadata": {},
   "outputs": [
    {
     "data": {
      "text/plain": [
       "(3+4j)"
      ]
     },
     "execution_count": 13,
     "metadata": {},
     "output_type": "execute_result"
    }
   ],
   "source": [
    "complex(v1)"
   ]
  },
  {
   "cell_type": "code",
   "execution_count": 14,
   "metadata": {},
   "outputs": [
    {
     "name": "stdout",
     "output_type": "stream",
     "text": [
      "{'_Vector2d__x': 3.0, '_Vector2d__y': 4.0}\n",
      "3.0\n",
      "4.0\n"
     ]
    }
   ],
   "source": [
    "# '__' 를 사용한 name mangling 은 안전장치이지 보안장치가 아니다. \n",
    "# __x 에 접근하기.\n",
    "print(v1.__dict__)\n",
    "print(v1._Vector2d__x)\n",
    "v1._Vector2d__x += 1\n",
    "print(v1._Vector2d__x)"
   ]
  },
  {
   "cell_type": "markdown",
   "metadata": {},
   "source": [
    "## \\_\\_slots\\_\\_\n",
    "### 객체는 \\_\\_dict\\_\\_ 형태로 딕셔너리에 저장된다. 이는 빠른 접근을 용이하게 하지만 해쉬테이블을 유지하므로 메모리 사용이 크다.\n",
    "### 따라서 \\_\\_slots\\_\\_ 을 사용하여 데이터를 튜플 형태로 저장하여 메모리 사용량을 줄일 수 있다.\n",
    "<br>\n",
    "\n",
    "### 단 객체가 가지고 있는 속성 이외의 속성을 추가할 수 없게 된다.\n",
    "### \\_\\_weakref\\_\\_ 를 \\_\\_slots\\_\\_ 에 추가하지 않으면 객체가 약한 참조의 대상이 될 수 없다.\n",
    "### 대규모 데이터를 다루어 메모리가 중요하다면 Numpy 나 Pandas 를 사용하자."
   ]
  },
  {
   "cell_type": "code",
   "execution_count": 15,
   "metadata": {},
   "outputs": [],
   "source": [
    "# 위의 객체에서 __solots__ 만 추가시켰다.\n",
    "from array import array\n",
    "import math\n",
    "\n",
    "class Vector2d :\n",
    "    typecode ='d'\n",
    "    \n",
    "    __slots__ = ('__x', '__y')\n",
    "    \n",
    "    def __init__(self, x,y) :\n",
    "        self.__x = float(x)\n",
    "        self.__y = float(y)\n",
    "        \n",
    "    # x,y를 일기 전용 속성으로 만든다.\n",
    "    @property\n",
    "    def x(self) :\n",
    "        return self.__x\n",
    "    @property\n",
    "    def y(self) :\n",
    "        return self.__y\n",
    "    \n",
    "    # __iter__ method 를 하면 Vector2d를 반복할 수 있고 이로써 언패킹이 가능하다.\n",
    "    def __iter__(self) :\n",
    "        return (i for i in (self.x, self.y))\n",
    "    \n",
    "    def __repr__(self) :\n",
    "        class_name = self.__class__.__name__\n",
    "        return f\"{class_name}({self.x}, {self.y})\"\n",
    "    \n",
    "    def __str__(self) :\n",
    "        return str(tuple(self))\n",
    "    \n",
    "    def __bytes__(self) :\n",
    "        return bytes([ord(self.typecode)]) + bytes(array(self.typecode, self))\n",
    "    \n",
    "    def __eq__(self, other) :\n",
    "        return tuple(self) == tuple(other)\n",
    "    \n",
    "    # 유클리드 거리\n",
    "    def __abs__(self) :\n",
    "        return math.hypot(self.x, self.y)\n",
    "    \n",
    "    # abs가 0이면 False 나머지는 True\n",
    "    def __bool__(self) :\n",
    "        return bool(abs(self))\n",
    "    \n",
    "    def __complex__(self) :\n",
    "        return complex(self.x, self.y)\n",
    "    \n",
    "    #classmethod는 첫번째 함수로 자신의 클래스를 받는다.\n",
    "    @classmethod\n",
    "    def frombytes(cls, octets) :\n",
    "        typecode = chr(octets[0])\n",
    "        # memoryview 는 구조체를 복사하지 않고 메모리를 공유할 수 있게 해준다.\n",
    "        memv = memoryview(octets[1:]).cast(typecode)\n",
    "        return cls(*memv)\n",
    "    \n",
    "    def angle(self):\n",
    "        return math.atan2(self.y, self.x)\n",
    "    \n",
    "    def __format__(self, fmt_spec='') :\n",
    "        if fmt_spec.endswith('p') :\n",
    "            fmt_spec = fmt_spec[:-1]\n",
    "            coords = (abs(self), self.angle())\n",
    "            outer_fmt = '<{}, {}>'\n",
    "        else :\n",
    "            coords = self\n",
    "            outer_fmt = '({}, {})'\n",
    "        components = (format(c, fmt_spec) for c in coords)\n",
    "        return outer_fmt.format(*components)\n",
    "    \n",
    "    def __hash__(self) :\n",
    "        # 클래스에 요소가 2개 이상이라면 각 요소의 해쉬의 배타곱이 권장된다.\n",
    "        return hash(self.x) ^ hash(self.y)"
   ]
  },
  {
   "cell_type": "code",
   "execution_count": null,
   "metadata": {},
   "outputs": [],
   "source": []
  }
 ],
 "metadata": {
  "kernelspec": {
   "display_name": "Python 3.10.2 64-bit",
   "language": "python",
   "name": "python3"
  },
  "language_info": {
   "codemirror_mode": {
    "name": "ipython",
    "version": 3
   },
   "file_extension": ".py",
   "mimetype": "text/x-python",
   "name": "python",
   "nbconvert_exporter": "python",
   "pygments_lexer": "ipython3",
   "version": "3.10.2"
  },
  "orig_nbformat": 4,
  "vscode": {
   "interpreter": {
    "hash": "369f2c481f4da34e4445cda3fffd2e751bd1c4d706f27375911949ba6bb62e1c"
   }
  }
 },
 "nbformat": 4,
 "nbformat_minor": 2
}
