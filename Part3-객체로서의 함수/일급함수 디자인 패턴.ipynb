{
 "cells": [
  {
   "cell_type": "markdown",
   "metadata": {},
   "source": [
    "# 전략 패턴의 리팩토링"
   ]
  },
  {
   "cell_type": "markdown",
   "metadata": {},
   "source": [
    "## 고전적인 전략\n",
    "- ### 일련의 알고리즘을 정의하고 각각을 하나의 클래스 안에 넣어서 교체하기 쉽게 만든다.<br> 전략을 이용하면 사용하는 크라이언트에 따라 알고리즘을 독립적으로 변경할 수 있다."
   ]
  },
  {
   "cell_type": "markdown",
   "metadata": {},
   "source": [
    "#### 콘텍스트\n",
    "- 일부 계산을 서로 다른 알고리즘을 구현하는 교환 가능한 컴포넌트에 위임함으로써 서비스를 제공한다.\n",
    "#### 전략\n",
    "- 여러 알고리즘을 구현하는 컴포넌트의 공통된 인터페이스.\n",
    "#### 구체적인 전략\n",
    "- 전략의 구상 서브클래스 중 하나."
   ]
  },
  {
   "cell_type": "code",
   "execution_count": 6,
   "metadata": {},
   "outputs": [],
   "source": [
    "#주문 할인에 대한 처리\n",
    "\n",
    "from abc import ABC, abstractmethod\n",
    "from collections import namedtuple\n",
    "\n",
    "Customer = namedtuple('Cutomer', 'name fidelity')\n",
    "\n",
    "class LineItem :\n",
    "\n",
    "    def __init__(self, product, quantity, price) :\n",
    "        self.product = product\n",
    "        self.quantity = quantity\n",
    "        self.price = price\n",
    "        \n",
    "    def total(self) :\n",
    "        return self.price * self.quantity\n",
    "    \n",
    "class Order : # 콘텍스트\n",
    "    def __init__(self, customer, cart, promotion = None) :\n",
    "        self.customer = customer\n",
    "        self.cart = list(cart)\n",
    "        self.promotion = promotion\n",
    "        \n",
    "    def total(self) :\n",
    "        if not hasattr(self, '__total') :\n",
    "            self.__total = sum(item.total() for item in self.cart)\n",
    "        return self.__total\n",
    "    \n",
    "    def due(self) :\n",
    "        if self.promotion is None :\n",
    "            discount = 0\n",
    "        else :\n",
    "            discount = self.promotion.discount(self)\n",
    "        return self.total() - discount\n",
    "    \n",
    "    def __repr__(self) :\n",
    "        return f\"<Order total : {self.total():.2f} due : {self.due():.2f}\"\n",
    "    \n",
    "\n",
    "class Promotion(ABC) : # 전략 : 추상 베이스 클래스\n",
    "    \n",
    "    @abstractmethod\n",
    "    def discount(self, order) :\n",
    "        \"\"\"할인액을 구체적인 숫자로 반환한다.\"\"\"\n",
    "        \n",
    "class FidelityPromo(Promotion) : # 첫번째 구체적인 전략\n",
    "    \"\"\"충성도 포인트가 1000점 이상인 고객에게 전체 5% 할인 적용\"\"\"\n",
    "    def discount(self, order) : \n",
    "        return order.total() * 0.05 if order.customer.fidelity >= 1000 else 0\n",
    "    \n",
    "class BulkItemPromo(Promotion) : # 두번째 구체적인 전략\n",
    "    \"\"\"20개 이상의 동일 상품을 구입하면 10% 할인 적용\"\"\"\n",
    "    \n",
    "    def discount(self, order) :\n",
    "        discount = 0\n",
    "        for item in order.cart :\n",
    "            if item.quantity >= 20 :\n",
    "                discount += item.total() * 0.1\n",
    "        return discount\n",
    "    \n",
    "class LargeOrderPromo(Promotion) : # 세번째 구체적인 전략\n",
    "    '''10종류 이상의 상품을 구입하면 전체 7% 할인 적용'''\n",
    "    \n",
    "    def discount(self, order) :\n",
    "        distinct_items = {item.product for item in order.cart}\n",
    "        if len(distinct_items) >= 10 :\n",
    "            return order.total() * .07\n",
    "        return 0\n",
    "\n"
   ]
  },
  {
   "cell_type": "code",
   "execution_count": 7,
   "metadata": {},
   "outputs": [
    {
     "name": "stdout",
     "output_type": "stream",
     "text": [
      "<Order total : 42.00 due : 42.00\n",
      "<Order total : 42.00 due : 39.90\n",
      "<Order total : 30.00 due : 28.50\n",
      "<Order total : 10.00 due : 9.30\n",
      "<Order total : 42.00 due : 42.00\n"
     ]
    }
   ],
   "source": [
    "joe = Customer(\"John Doe\", 0)\n",
    "ann = Customer(\"Ann Smith\", 1100)\n",
    "cart = [LineItem(\"banana\", 4, .5), LineItem(\"apple\", 10, 1.5), LineItem(\"watermellon\", 5, 5.0)]\n",
    "print(Order(joe, cart, FidelityPromo()))\n",
    "print(Order(ann, cart, FidelityPromo()))\n",
    "banana_cart = [LineItem(\"banana\", 30, .5), LineItem('apple', 10, 1.5)]\n",
    "print(Order(joe, banana_cart, BulkItemPromo()))\n",
    "long_order = [LineItem(str(item_code), 1, 1.0) for item_code in range(10)]\n",
    "print(Order(joe, long_order, LargeOrderPromo()))\n",
    "print(Order(joe, cart, LargeOrderPromo()))"
   ]
  },
  {
   "cell_type": "markdown",
   "metadata": {},
   "source": [
    "## 함수 지향 전략"
   ]
  },
  {
   "cell_type": "code",
   "execution_count": 8,
   "metadata": {},
   "outputs": [],
   "source": [
    "from collections import namedtuple\n",
    "\n",
    "Customer = namedtuple('Customer', 'name fidelity')\n",
    "\n",
    "class LineItem :\n",
    "    \n",
    "    def __init__(self, product, quantity, price) :\n",
    "        self.product = product\n",
    "        self.quantity = quantity\n",
    "        self.price = price\n",
    "        \n",
    "    def total(self) :\n",
    "        return self.price * self.quantity\n",
    "    \n",
    "class Order : # 콘텍스트\n",
    "    \n",
    "    def __init__(self, customer, cart, promotion = None) :\n",
    "        self.customer = customer\n",
    "        self.cart = list(cart)\n",
    "        self.promotion = promotion\n",
    "        \n",
    "    def total(self) :\n",
    "        if not hasattr(self, '__total') :\n",
    "            self.__total = sum(item.total() for item in self.cart)\n",
    "        return self.__total\n",
    "    \n",
    "    def due(self) :\n",
    "        if self.promotion is None :\n",
    "            discount = 0\n",
    "        else :\n",
    "            # class(자신)가 인수로 받은 함수가 class(자신)를 다시 인수로 받는 신기한 형태 \n",
    "            discount = self.promotion(self)\n",
    "        return self.total() - discount\n",
    "    \n",
    "    def __repr__(self) :\n",
    "        return f\"<Order total : {self.total():.2f} due : {self.due():.2f}\"\n",
    "    \n",
    "def fidelity_promo(order) :\n",
    "    \"\"\"충성도 포인트가 1000점 이상인 고객에게 전체 5% 할인 적용\"\"\"\n",
    "    return order.total() * 0.05 if order.customer.fidelity >= 1000 else 0\n",
    "\n",
    "def bulk_item_promo(order) :\n",
    "    \"\"\"20개 이상의 동일 상품을 구입하면 10% 할인 적용\"\"\"\n",
    "    discount = 0\n",
    "    for item in order.cart :\n",
    "        if item.quantity >= 20 :\n",
    "            discount += item.total() * 0.1\n",
    "    return discount\n",
    "\n",
    "def large_order_promo(order) :\n",
    "    '''10종류 이상의 상품을 구입하면 전체 7% 할인 적용'''\n",
    "    distinct_items = {item.product for item in order.cart}\n",
    "    if len(distinct_items) >= 10 :\n",
    "        return order.total() * .07\n",
    "    return 0\n"
   ]
  },
  {
   "cell_type": "markdown",
   "metadata": {},
   "source": [
    "### 똑같은 코드이고 똑같이 실행된다.\n",
    "#### 하지만 함수 지향 전략이 가독성, 코드 길이 면에서 매우매우매우매우 좋다.\n",
    "#### 또한 객체를 자주 생성하지 않아 메모리, 시간을 효율적으로 사용할 수 있다.\n",
    "\n",
    "### 주의사항\n",
    "#### order 가 실행될 때마다 구체 전략 클래스 객체를 생성하는 고전적인 방법과 달리 함수 전략에서는 함수 객체가 공유되고 있다는 것을 명심하자"
   ]
  },
  {
   "cell_type": "code",
   "execution_count": 9,
   "metadata": {},
   "outputs": [
    {
     "name": "stdout",
     "output_type": "stream",
     "text": [
      "<Order total : 42.00 due : 42.00\n",
      "<Order total : 42.00 due : 39.90\n",
      "<Order total : 30.00 due : 28.50\n",
      "<Order total : 10.00 due : 9.30\n",
      "<Order total : 42.00 due : 42.00\n"
     ]
    }
   ],
   "source": [
    "joe = Customer(\"John Doe\", 0)\n",
    "ann = Customer(\"Ann Smith\", 1100)\n",
    "cart = [LineItem(\"banana\", 4, .5), LineItem(\"apple\", 10, 1.5), LineItem(\"watermellon\", 5, 5.0)]\n",
    "print(Order(joe, cart, fidelity_promo))\n",
    "print(Order(ann, cart, fidelity_promo))\n",
    "banana_cart = [LineItem(\"banana\", 30, .5), LineItem('apple', 10, 1.5)]\n",
    "print(Order(joe, banana_cart, bulk_item_promo))\n",
    "long_order = [LineItem(str(item_code), 1, 1.0) for item_code in range(10)]\n",
    "print(Order(joe, long_order, large_order_promo))\n",
    "print(Order(joe, cart, large_order_promo))"
   ]
  },
  {
   "cell_type": "code",
   "execution_count": 14,
   "metadata": {},
   "outputs": [
    {
     "name": "stdout",
     "output_type": "stream",
     "text": [
      "<Order total : 10.00 due : 9.30\n",
      "<Order total : 30.00 due : 28.50\n",
      "<Order total : 42.00 due : 42.00\n"
     ]
    }
   ],
   "source": [
    "promos = [fidelity_promo, bulk_item_promo, large_order_promo]\n",
    "\n",
    "def best_promo(order) :\n",
    "    \"\"\" 최대로 할인받을 금액을 반환한다.\"\"\"\n",
    "    return max(promo(order) for promo in promos)\n",
    "\n",
    "print(Order(joe, long_order, best_promo))\n",
    "print(Order(joe, banana_cart, best_promo))\n",
    "print(Order(joe, cart, best_promo))"
   ]
  },
  {
   "cell_type": "markdown",
   "metadata": {},
   "source": [
    "## 모듈에서 전략 찾기"
   ]
  },
  {
   "cell_type": "markdown",
   "metadata": {},
   "source": [
    "### 새로운 할인 함수를 추가할 경우 promos 를 갱신해줘야 하기 때문에 이는 오류가 발생할 여지가 있다."
   ]
  },
  {
   "cell_type": "markdown",
   "metadata": {},
   "source": [
    "### 해결책 :\n",
    "### globals() 는 사용할 수 있는 전역 객체(함수도 포함)를 저장하고 있다.\n",
    "### 함수 네이밍에 패턴을 줘서 해당 패턴을 갖는 함수를 가져오자"
   ]
  },
  {
   "cell_type": "code",
   "execution_count": 28,
   "metadata": {},
   "outputs": [
    {
     "name": "stdout",
     "output_type": "stream",
     "text": [
      "<Order total : 10.00 due : 9.30\n",
      "<Order total : 30.00 due : 28.50\n",
      "<Order total : 42.00 due : 42.00\n"
     ]
    }
   ],
   "source": [
    "# 이 방식으로 promos 를 만들면 새로운 할인 함수가 추가될 때 promos 를 갱신해주지 않아도 자동 갱신된다.\n",
    "# best_promo는 포함하지 않아야 무한 재귀를 피할 수 있다.\n",
    "promos = [globals()[name] for name in globals() if name.endswith('_promo') and name != 'best_promo']\n",
    "\n",
    "def best_promo(order) :\n",
    "    \"\"\" 최대로 할인받을 금액을 반환한다.\"\"\"\n",
    "    return max(promo(order) for promo in promos)\n",
    "\n",
    "print(Order(joe, long_order, best_promo))\n",
    "print(Order(joe, banana_cart, best_promo))\n",
    "print(Order(joe, cart, best_promo))"
   ]
  },
  {
   "cell_type": "markdown",
   "metadata": {},
   "source": [
    "# singledispath 를 활용한 범용함수\n",
    "\n",
    "### 오버로딩을 지원하지 않는 파이썬에서 범용함수를 만드는 법"
   ]
  },
  {
   "cell_type": "code",
   "execution_count": 20,
   "metadata": {},
   "outputs": [],
   "source": [
    "from functools import singledispatch\n",
    "from collections import abc\n",
    "import numbers\n",
    "import html\n",
    "\n",
    "# singledispatch 데커레이터를 사용하면 범용함수가 된다.\n",
    "@singledispatch\n",
    "def htmlize(obj) :\n",
    "    content = html.escape(repr(obj))\n",
    "    return f\"<pre>{content}</pre>\"\n",
    "\n",
    "@htmlize.register(str)\n",
    "def _(text):\n",
    "    content = html.escape(text).replace(\"\\n\", \"<br>\\n\")\n",
    "    return f\"<p>{content}</p>\"\n",
    "\n",
    "# int 보다 확장적인 number.Intergral을 사용하는 것을 권장한다. 이는 int의 가상 슈퍼클래스이다.\n",
    "@htmlize.register(numbers.Integral)\n",
    "def _(n) :\n",
    "    return f\"<pre>{n} (0x{n:x})</pre>\"\n",
    "\n",
    "@htmlize.register(tuple)\n",
    "@htmlize.register(abc.MutableSequence)\n",
    "def _(seq) :\n",
    "    inner = \"</li>\\n<li>\".join(htmlize(item) for item in seq)\n",
    "    return \"<ul>\\n<li>\" + inner + \"</li>\\n</ul>\""
   ]
  },
  {
   "cell_type": "code",
   "execution_count": 21,
   "metadata": {},
   "outputs": [
    {
     "data": {
      "text/plain": [
       "'<pre>{1, 2, 3}</pre>'"
      ]
     },
     "execution_count": 21,
     "metadata": {},
     "output_type": "execute_result"
    }
   ],
   "source": [
    "htmlize({1,2,3})"
   ]
  },
  {
   "cell_type": "code",
   "execution_count": 22,
   "metadata": {},
   "outputs": [
    {
     "data": {
      "text/plain": [
       "'<pre>&lt;built-in function abs&gt;</pre>'"
      ]
     },
     "execution_count": 22,
     "metadata": {},
     "output_type": "execute_result"
    }
   ],
   "source": [
    "htmlize(abs)"
   ]
  },
  {
   "cell_type": "code",
   "execution_count": 23,
   "metadata": {},
   "outputs": [
    {
     "data": {
      "text/plain": [
       "'<p>Heimlich &amp; Co .<br>\\n- a game</p>'"
      ]
     },
     "execution_count": 23,
     "metadata": {},
     "output_type": "execute_result"
    }
   ],
   "source": [
    "htmlize('Heimlich & Co .\\n- a game')"
   ]
  },
  {
   "cell_type": "code",
   "execution_count": 24,
   "metadata": {},
   "outputs": [
    {
     "data": {
      "text/plain": [
       "'<pre>42 (0x2a)</pre>'"
      ]
     },
     "execution_count": 24,
     "metadata": {},
     "output_type": "execute_result"
    }
   ],
   "source": [
    "htmlize(42)"
   ]
  },
  {
   "cell_type": "code",
   "execution_count": 25,
   "metadata": {},
   "outputs": [
    {
     "name": "stdout",
     "output_type": "stream",
     "text": [
      "<ul>\n",
      "<li><p>alpha</p></li>\n",
      "<li><pre>66 (0x42)</pre></li>\n",
      "<li><pre>{1, 2, 3}</pre></li>\n",
      "</ul>\n"
     ]
    }
   ],
   "source": [
    "print(htmlize(['alpha', 66, {3,2,1}]))"
   ]
  },
  {
   "cell_type": "markdown",
   "metadata": {},
   "source": [
    "# 매개변수화된 데커레이터"
   ]
  },
  {
   "cell_type": "code",
   "execution_count": 22,
   "metadata": {},
   "outputs": [
    {
     "name": "stdout",
     "output_type": "stream",
     "text": [
      "running register <function f1 at 0x10789d3a0>\n",
      "running main()\n",
      "registry-> [<function f1 at 0x10789d3a0>]\n"
     ]
    }
   ],
   "source": [
    "registry = []\n",
    "\n",
    "def register(func) :\n",
    "    print(f\"running register {func}\")\n",
    "    registry.append(func)\n",
    "    return func\n",
    "\n",
    "@register\n",
    "def f1():\n",
    "    print(\"running f1()\")\n",
    "    \n",
    "print(\"running main()\")\n",
    "print(\"registry->\", registry)"
   ]
  },
  {
   "cell_type": "code",
   "execution_count": 27,
   "metadata": {},
   "outputs": [
    {
     "name": "stdout",
     "output_type": "stream",
     "text": [
      "running register(active=False) -> decorate(<function f1 at 0x10789d430>)\n",
      "running register(active=True) -> decorate(<function f2 at 0x10789d280>)\n"
     ]
    }
   ],
   "source": [
    "registry = set()\n",
    "\n",
    "# 실제 decorator 를 매개변수로 가진 함수로 감쌈으로써 튜닝할 수 있다.\n",
    "def register(active=True):\n",
    "    \n",
    "    # 실제 decorator\n",
    "    def decorate(func):\n",
    "        print(f\"running register(active={active}) -> decorate({func})\")\n",
    "        if active :\n",
    "            registry.add(func)\n",
    "        else :\n",
    "            registry.discard(func)\n",
    "            \n",
    "        return func\n",
    "    return decorate\n",
    "\n",
    "@register(active=False)\n",
    "def f1():\n",
    "    print(\"running f1()\")\n",
    "    \n",
    "@register()\n",
    "def f2():\n",
    "    print(\"running f2()\")\n",
    "    \n",
    "def f2():\n",
    "    print(\"running f3()\")\n",
    "            \n",
    "            "
   ]
  }
 ],
 "metadata": {
  "kernelspec": {
   "display_name": "Python 3.10.2 64-bit",
   "language": "python",
   "name": "python3"
  },
  "language_info": {
   "codemirror_mode": {
    "name": "ipython",
    "version": 3
   },
   "file_extension": ".py",
   "mimetype": "text/x-python",
   "name": "python",
   "nbconvert_exporter": "python",
   "pygments_lexer": "ipython3",
   "version": "3.9.13"
  },
  "orig_nbformat": 4,
  "vscode": {
   "interpreter": {
    "hash": "369f2c481f4da34e4445cda3fffd2e751bd1c4d706f27375911949ba6bb62e1c"
   }
  }
 },
 "nbformat": 4,
 "nbformat_minor": 2
}
