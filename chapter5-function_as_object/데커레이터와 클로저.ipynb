{
 "cells": [
  {
   "cell_type": "markdown",
   "metadata": {},
   "source": [
    "# 데커레이터"
   ]
  },
  {
   "cell_type": "markdown",
   "metadata": {},
   "source": [
    "## 데커레이터는 함수가 함수를 한번 감싸서 리턴하는 형태이다.\n",
    "### 1번과 2번은 동일하다"
   ]
  },
  {
   "cell_type": "code",
   "execution_count": 2,
   "metadata": {},
   "outputs": [
    {
     "name": "stdout",
     "output_type": "stream",
     "text": [
      "running target()\n"
     ]
    }
   ],
   "source": [
    "def decorate(func) :\n",
    "    return func\n",
    "\n",
    "#1\n",
    "@decorate\n",
    "def target() :\n",
    "    print(\"running target()\")\n",
    "target()"
   ]
  },
  {
   "cell_type": "code",
   "execution_count": 3,
   "metadata": {},
   "outputs": [
    {
     "name": "stdout",
     "output_type": "stream",
     "text": [
      "running target()\n"
     ]
    }
   ],
   "source": [
    "    \n",
    "#2\n",
    "def target() :\n",
    "    print(\"running target()\")\n",
    "target = decorate(target)\n",
    "target()"
   ]
  },
  {
   "cell_type": "markdown",
   "metadata": {},
   "source": [
    "## 데커레이터가 실행되는 시점\n",
    "### 데커레이터는 import time 에 실행되며 이는 runtime 과 구분된다."
   ]
  },
  {
   "cell_type": "code",
   "execution_count": 9,
   "metadata": {},
   "outputs": [],
   "source": [
    "# registration.py 을 확인하고 콘솔에서 실행해보자\n",
    "import registration"
   ]
  },
  {
   "cell_type": "code",
   "execution_count": 10,
   "metadata": {},
   "outputs": [
    {
     "data": {
      "text/plain": [
       "[<function registration.f1()>, <function registration.f2()>]"
      ]
     },
     "execution_count": 10,
     "metadata": {},
     "output_type": "execute_result"
    }
   ],
   "source": [
    "# import time에 데코레이트 함수가 실행되어 registry에 두 함수가 추가된 것을 확인할 수 있다.\n",
    "registration.registry"
   ]
  },
  {
   "cell_type": "markdown",
   "metadata": {},
   "source": [
    "## 데커레이터로 개선된 전략 패턴\n",
    "### promos 에 리스트를 추가하는 것을 깜빡하였을 경우를 데커레이터를 활용해 해결한다."
   ]
  },
  {
   "cell_type": "code",
   "execution_count": null,
   "metadata": {},
   "outputs": [],
   "source": [
    "promos = []\n",
    "\n",
    "# 데커레이트된 함수들은 import time에 실행되어 promos 에 추가될 것이다.\n",
    "def promotion(promo_func) :\n",
    "    promos.append(promo_func)\n",
    "    return promo_func\n",
    "\n",
    "@promotion\n",
    "def fidelity_promo(order) :\n",
    "    \"\"\"충성도 포인트가 1000점 이상인 고객에게 전체 5% 할인 적용\"\"\"\n",
    "    return order.total() * 0.05 if order.customer.fidelity >= 1000 else 0\n",
    "@promotion\n",
    "def bulk_item_promo(order) :\n",
    "    \"\"\"20개 이상의 동일 상품을 구입하면 10% 할인 적용\"\"\"\n",
    "    discount = 0\n",
    "    for item in order.cart :\n",
    "        if item.quantity >= 20 :\n",
    "            discount += item.total() * 0.1\n",
    "    return discount\n",
    "\n",
    "@promotion\n",
    "def large_order_promo(order) :\n",
    "    '''10종류 이상의 상품을 구입하면 전체 7% 할인 적용'''\n",
    "    distinct_items = {item.product for item in order.cart}\n",
    "    if len(distinct_items) >= 10 :\n",
    "        return order.total() * .07\n",
    "    return 0\n",
    "\n",
    "def best_promo(order) :\n",
    "    \"\"\" 최대로 할인받을 금액을 반환한다.\"\"\"\n",
    "    return max(promo(order) for promo in promos)"
   ]
  },
  {
   "cell_type": "markdown",
   "metadata": {},
   "source": [
    "## 아래 코드가 에러가 나는 이유\n",
    "### f1() 은 b를 전역변수라고 본다. \n",
    "### f2() 는 b를 지역변수라고 본다. b가 함수 내에서 선언되었기 때문이다.\n",
    "### 따라서 f2()는 b를 선언 전에 참조한 것이고 이는 에러가 발생한다."
   ]
  },
  {
   "cell_type": "code",
   "execution_count": 14,
   "metadata": {},
   "outputs": [
    {
     "name": "stdout",
     "output_type": "stream",
     "text": [
      "3\n",
      "3\n"
     ]
    }
   ],
   "source": [
    "b = 3\n",
    "def f1(a) :\n",
    "    print(a)\n",
    "    print(b)\n",
    "f1(3)"
   ]
  },
  {
   "cell_type": "code",
   "execution_count": 15,
   "metadata": {},
   "outputs": [
    {
     "name": "stdout",
     "output_type": "stream",
     "text": [
      "3\n"
     ]
    },
    {
     "ename": "UnboundLocalError",
     "evalue": "local variable 'b' referenced before assignment",
     "output_type": "error",
     "traceback": [
      "\u001b[1;31m---------------------------------------------------------------------------\u001b[0m",
      "\u001b[1;31mUnboundLocalError\u001b[0m                         Traceback (most recent call last)",
      "\u001b[1;32mc:\\WorkSpace\\FluentPython\\chapter5-function_as_object\\데커레이터와 클로저.ipynb 셀 13\u001b[0m in \u001b[0;36m<module>\u001b[1;34m\u001b[0m\n\u001b[0;32m      <a href='vscode-notebook-cell:/c%3A/WorkSpace/FluentPython/chapter5-function_as_object/%EB%8D%B0%EC%BB%A4%EB%A0%88%EC%9D%B4%ED%84%B0%EC%99%80%20%ED%81%B4%EB%A1%9C%EC%A0%80.ipynb#ch0000018?line=3'>4</a>\u001b[0m     \u001b[39mprint\u001b[39m(b)\n\u001b[0;32m      <a href='vscode-notebook-cell:/c%3A/WorkSpace/FluentPython/chapter5-function_as_object/%EB%8D%B0%EC%BB%A4%EB%A0%88%EC%9D%B4%ED%84%B0%EC%99%80%20%ED%81%B4%EB%A1%9C%EC%A0%80.ipynb#ch0000018?line=4'>5</a>\u001b[0m     b\u001b[39m=\u001b[39m\u001b[39m6\u001b[39m\n\u001b[1;32m----> <a href='vscode-notebook-cell:/c%3A/WorkSpace/FluentPython/chapter5-function_as_object/%EB%8D%B0%EC%BB%A4%EB%A0%88%EC%9D%B4%ED%84%B0%EC%99%80%20%ED%81%B4%EB%A1%9C%EC%A0%80.ipynb#ch0000018?line=5'>6</a>\u001b[0m f2(\u001b[39m3\u001b[39;49m)\n",
      "\u001b[1;32mc:\\WorkSpace\\FluentPython\\chapter5-function_as_object\\데커레이터와 클로저.ipynb 셀 13\u001b[0m in \u001b[0;36mf2\u001b[1;34m(a)\u001b[0m\n\u001b[0;32m      <a href='vscode-notebook-cell:/c%3A/WorkSpace/FluentPython/chapter5-function_as_object/%EB%8D%B0%EC%BB%A4%EB%A0%88%EC%9D%B4%ED%84%B0%EC%99%80%20%ED%81%B4%EB%A1%9C%EC%A0%80.ipynb#ch0000018?line=1'>2</a>\u001b[0m \u001b[39mdef\u001b[39;00m \u001b[39mf2\u001b[39m(a) :\n\u001b[0;32m      <a href='vscode-notebook-cell:/c%3A/WorkSpace/FluentPython/chapter5-function_as_object/%EB%8D%B0%EC%BB%A4%EB%A0%88%EC%9D%B4%ED%84%B0%EC%99%80%20%ED%81%B4%EB%A1%9C%EC%A0%80.ipynb#ch0000018?line=2'>3</a>\u001b[0m     \u001b[39mprint\u001b[39m(a)\n\u001b[1;32m----> <a href='vscode-notebook-cell:/c%3A/WorkSpace/FluentPython/chapter5-function_as_object/%EB%8D%B0%EC%BB%A4%EB%A0%88%EC%9D%B4%ED%84%B0%EC%99%80%20%ED%81%B4%EB%A1%9C%EC%A0%80.ipynb#ch0000018?line=3'>4</a>\u001b[0m     \u001b[39mprint\u001b[39m(b)\n\u001b[0;32m      <a href='vscode-notebook-cell:/c%3A/WorkSpace/FluentPython/chapter5-function_as_object/%EB%8D%B0%EC%BB%A4%EB%A0%88%EC%9D%B4%ED%84%B0%EC%99%80%20%ED%81%B4%EB%A1%9C%EC%A0%80.ipynb#ch0000018?line=4'>5</a>\u001b[0m     b\u001b[39m=\u001b[39m\u001b[39m6\u001b[39m\n",
      "\u001b[1;31mUnboundLocalError\u001b[0m: local variable 'b' referenced before assignment"
     ]
    }
   ],
   "source": [
    "b = 6\n",
    "def f2(a) :\n",
    "    print(a)\n",
    "    print(b)\n",
    "    b=6\n",
    "f2(3)"
   ]
  },
  {
   "cell_type": "code",
   "execution_count": 17,
   "metadata": {},
   "outputs": [
    {
     "name": "stdout",
     "output_type": "stream",
     "text": [
      "  3           0 LOAD_GLOBAL              0 (print)\n",
      "              2 LOAD_FAST                0 (a)\n",
      "              4 CALL_FUNCTION            1\n",
      "              6 POP_TOP\n",
      "\n",
      "  4           8 LOAD_GLOBAL              0 (print)\n",
      "             10 LOAD_GLOBAL              1 (b)\n",
      "             12 CALL_FUNCTION            1\n",
      "             14 POP_TOP\n",
      "             16 LOAD_CONST               0 (None)\n",
      "             18 RETURN_VALUE\n"
     ]
    }
   ],
   "source": [
    "from dis import dis\n",
    "# b를 전역변수로 간주하고 있다.\n",
    "dis(f1)"
   ]
  },
  {
   "cell_type": "code",
   "execution_count": 18,
   "metadata": {},
   "outputs": [
    {
     "name": "stdout",
     "output_type": "stream",
     "text": [
      "  3           0 LOAD_GLOBAL              0 (print)\n",
      "              2 LOAD_FAST                0 (a)\n",
      "              4 CALL_FUNCTION            1\n",
      "              6 POP_TOP\n",
      "\n",
      "  4           8 LOAD_GLOBAL              0 (print)\n",
      "             10 LOAD_FAST                1 (b)\n",
      "             12 CALL_FUNCTION            1\n",
      "             14 POP_TOP\n",
      "\n",
      "  5          16 LOAD_CONST               1 (6)\n",
      "             18 STORE_FAST               1 (b)\n",
      "             20 LOAD_CONST               0 (None)\n",
      "             22 RETURN_VALUE\n"
     ]
    }
   ],
   "source": [
    "# b를 지역변수로 간주하고 있다.\n",
    "dis(f2)"
   ]
  },
  {
   "cell_type": "markdown",
   "metadata": {},
   "source": [
    "# 클로저\n",
    "### 대부분의 데커레이터는 데커레이트된 함수를 변경한다\n",
    "### 즉 내부 함수를 정의하고 그것을 반환하여 데커레이트된 함수를 대체한다.\n",
    "### 내부 함수를 사용하는 코드는 제대로 작동하기 위해 거의 항상 클로저에 의존한다."
   ]
  },
  {
   "cell_type": "markdown",
   "metadata": {},
   "source": [
    "## 클로저는 함수 본체 외부에 정의된 비전역 변수에 접근할 수 있다."
   ]
  },
  {
   "cell_type": "code",
   "execution_count": 19,
   "metadata": {},
   "outputs": [
    {
     "name": "stdout",
     "output_type": "stream",
     "text": [
      "10.0\n",
      "10.5\n",
      "11.0\n"
     ]
    }
   ],
   "source": [
    "class Averager() :\n",
    "    def __init__(self) :\n",
    "        self.series = []\n",
    "        \n",
    "    def __call__(self, new_value) :\n",
    "        self.series.append(new_value)\n",
    "        total = sum(self.series)\n",
    "        return total/len(self.series)\n",
    "    \n",
    "avg = Averager()\n",
    "print(avg(10))\n",
    "print(avg(11))\n",
    "print(avg(12))"
   ]
  },
  {
   "cell_type": "code",
   "execution_count": 20,
   "metadata": {},
   "outputs": [
    {
     "name": "stdout",
     "output_type": "stream",
     "text": [
      "10.0\n",
      "10.5\n",
      "11.0\n"
     ]
    }
   ],
   "source": [
    "def make_averager() :\n",
    "    series = []\n",
    "    \n",
    "    def averager(new_value) :\n",
    "        series.append(new_value)\n",
    "        total = sum(series)\n",
    "        return total/len(series)\n",
    "    \n",
    "    return averager\n",
    "\n",
    "avg = make_averager()\n",
    "print(avg(10))\n",
    "print(avg(11))\n",
    "print(avg(12))"
   ]
  },
  {
   "cell_type": "markdown",
   "metadata": {},
   "source": [
    "### Averager class 는 Averager.series 에 값들이 저장되어 있다.\n",
    "### 하지만 make_averager() 어디에 series 가 저장되어 있는 걸까\n",
    "### make_averager()는 이미 함수를 반환했기 때문에 지역 범위도 사라졌다.\n",
    "### 이때 series를 자유변수라 하고 클로저는 이 자유변수에 접근할 수 있다.\n",
    "![image](images/closure.PNG)"
   ]
  },
  {
   "cell_type": "code",
   "execution_count": 21,
   "metadata": {},
   "outputs": [
    {
     "data": {
      "text/plain": [
       "('new_value', 'total')"
      ]
     },
     "execution_count": 21,
     "metadata": {},
     "output_type": "execute_result"
    }
   ],
   "source": [
    "avg.__code__.co_varnames"
   ]
  },
  {
   "cell_type": "code",
   "execution_count": 23,
   "metadata": {},
   "outputs": [
    {
     "data": {
      "text/plain": [
       "('series',)"
      ]
     },
     "execution_count": 23,
     "metadata": {},
     "output_type": "execute_result"
    }
   ],
   "source": [
    "# series는 자유변수에 속한다.\n",
    "avg.__code__.co_freevars"
   ]
  },
  {
   "cell_type": "code",
   "execution_count": 32,
   "metadata": {},
   "outputs": [
    {
     "data": {
      "text/plain": [
       "[10, 11, 12]"
      ]
     },
     "execution_count": 32,
     "metadata": {},
     "output_type": "execute_result"
    }
   ],
   "source": [
    "avg.__closure__[0].cell_contents"
   ]
  },
  {
   "cell_type": "markdown",
   "metadata": {},
   "source": [
    "# nonlocal\n",
    "### 함수 외부에서 정의된 자유변수에 접근 할 수 있게 해준다."
   ]
  },
  {
   "cell_type": "code",
   "execution_count": 34,
   "metadata": {},
   "outputs": [
    {
     "ename": "UnboundLocalError",
     "evalue": "local variable 'count' referenced before assignment",
     "output_type": "error",
     "traceback": [
      "\u001b[1;31m---------------------------------------------------------------------------\u001b[0m",
      "\u001b[1;31mUnboundLocalError\u001b[0m                         Traceback (most recent call last)",
      "\u001b[1;32mc:\\WorkSpace\\FluentPython\\chapter5-function_as_object\\데커레이터와 클로저.ipynb 셀 24\u001b[0m in \u001b[0;36m<module>\u001b[1;34m\u001b[0m\n\u001b[0;32m     <a href='vscode-notebook-cell:/c%3A/WorkSpace/FluentPython/chapter5-function_as_object/%EB%8D%B0%EC%BB%A4%EB%A0%88%EC%9D%B4%ED%84%B0%EC%99%80%20%ED%81%B4%EB%A1%9C%EC%A0%80.ipynb#ch0000036?line=12'>13</a>\u001b[0m     \u001b[39mreturn\u001b[39;00m averager\n\u001b[0;32m     <a href='vscode-notebook-cell:/c%3A/WorkSpace/FluentPython/chapter5-function_as_object/%EB%8D%B0%EC%BB%A4%EB%A0%88%EC%9D%B4%ED%84%B0%EC%99%80%20%ED%81%B4%EB%A1%9C%EC%A0%80.ipynb#ch0000036?line=14'>15</a>\u001b[0m avg \u001b[39m=\u001b[39m make_averager()\n\u001b[1;32m---> <a href='vscode-notebook-cell:/c%3A/WorkSpace/FluentPython/chapter5-function_as_object/%EB%8D%B0%EC%BB%A4%EB%A0%88%EC%9D%B4%ED%84%B0%EC%99%80%20%ED%81%B4%EB%A1%9C%EC%A0%80.ipynb#ch0000036?line=15'>16</a>\u001b[0m avg(\u001b[39m10\u001b[39;49m)\n",
      "\u001b[1;32mc:\\WorkSpace\\FluentPython\\chapter5-function_as_object\\데커레이터와 클로저.ipynb 셀 24\u001b[0m in \u001b[0;36mmake_averager.<locals>.averager\u001b[1;34m(new_value)\u001b[0m\n\u001b[0;32m      <a href='vscode-notebook-cell:/c%3A/WorkSpace/FluentPython/chapter5-function_as_object/%EB%8D%B0%EC%BB%A4%EB%A0%88%EC%9D%B4%ED%84%B0%EC%99%80%20%ED%81%B4%EB%A1%9C%EC%A0%80.ipynb#ch0000036?line=7'>8</a>\u001b[0m \u001b[39mdef\u001b[39;00m \u001b[39maverager\u001b[39m(new_value) :\n\u001b[1;32m----> <a href='vscode-notebook-cell:/c%3A/WorkSpace/FluentPython/chapter5-function_as_object/%EB%8D%B0%EC%BB%A4%EB%A0%88%EC%9D%B4%ED%84%B0%EC%99%80%20%ED%81%B4%EB%A1%9C%EC%A0%80.ipynb#ch0000036?line=8'>9</a>\u001b[0m     count \u001b[39m+\u001b[39m\u001b[39m=\u001b[39m \u001b[39m1\u001b[39m\n\u001b[0;32m     <a href='vscode-notebook-cell:/c%3A/WorkSpace/FluentPython/chapter5-function_as_object/%EB%8D%B0%EC%BB%A4%EB%A0%88%EC%9D%B4%ED%84%B0%EC%99%80%20%ED%81%B4%EB%A1%9C%EC%A0%80.ipynb#ch0000036?line=9'>10</a>\u001b[0m     total \u001b[39m+\u001b[39m\u001b[39m=\u001b[39m new_value\n\u001b[0;32m     <a href='vscode-notebook-cell:/c%3A/WorkSpace/FluentPython/chapter5-function_as_object/%EB%8D%B0%EC%BB%A4%EB%A0%88%EC%9D%B4%ED%84%B0%EC%99%80%20%ED%81%B4%EB%A1%9C%EC%A0%80.ipynb#ch0000036?line=10'>11</a>\u001b[0m     \u001b[39mreturn\u001b[39;00m total\u001b[39m/\u001b[39mcount\n",
      "\u001b[1;31mUnboundLocalError\u001b[0m: local variable 'count' referenced before assignment"
     ]
    }
   ],
   "source": [
    "# f2() 의 경우와 마찬가지로 count가 averager 함수 내에서 선언되었으므로 지역변수로 봤고\n",
    "# count 선언되기 전에 참조하므로 오류가 발생한다.\n",
    "\n",
    "def make_averager() :\n",
    "    count = 0\n",
    "    total = 0\n",
    "    \n",
    "    def averager(new_value) :\n",
    "        count += 1\n",
    "        total += new_value\n",
    "        return total/count\n",
    "    \n",
    "    return averager\n",
    "\n",
    "avg = make_averager()\n",
    "avg(10)"
   ]
  },
  {
   "cell_type": "code",
   "execution_count": 35,
   "metadata": {},
   "outputs": [
    {
     "data": {
      "text/plain": [
       "10.0"
      ]
     },
     "execution_count": 35,
     "metadata": {},
     "output_type": "execute_result"
    }
   ],
   "source": [
    "# 이는 다음과 같이 해결할 수 있다.\n",
    "def make_averager() :\n",
    "    count = 0\n",
    "    total = 0\n",
    "    \n",
    "    def averager(new_value) :\n",
    "        nonlocal count, total\n",
    "        count += 1\n",
    "        total += new_value\n",
    "        return total/count\n",
    "    \n",
    "    return averager\n",
    "\n",
    "avg = make_averager()\n",
    "avg(10)"
   ]
  },
  {
   "cell_type": "code",
   "execution_count": null,
   "metadata": {},
   "outputs": [],
   "source": []
  }
 ],
 "metadata": {
  "kernelspec": {
   "display_name": "Python 3.10.2 64-bit",
   "language": "python",
   "name": "python3"
  },
  "language_info": {
   "codemirror_mode": {
    "name": "ipython",
    "version": 3
   },
   "file_extension": ".py",
   "mimetype": "text/x-python",
   "name": "python",
   "nbconvert_exporter": "python",
   "pygments_lexer": "ipython3",
   "version": "3.10.2"
  },
  "orig_nbformat": 4,
  "vscode": {
   "interpreter": {
    "hash": "369f2c481f4da34e4445cda3fffd2e751bd1c4d706f27375911949ba6bb62e1c"
   }
  }
 },
 "nbformat": 4,
 "nbformat_minor": 2
}
