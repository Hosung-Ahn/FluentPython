{
 "cells": [
  {
   "cell_type": "markdown",
   "metadata": {},
   "source": [
    "## 데커레이터는 함수가 함수를 한번 감싸서 리턴하는 형태이다.\n",
    "### 1번과 2번은 동일하다"
   ]
  },
  {
   "cell_type": "code",
   "execution_count": 2,
   "metadata": {},
   "outputs": [
    {
     "name": "stdout",
     "output_type": "stream",
     "text": [
      "running target()\n"
     ]
    }
   ],
   "source": [
    "def decorate(func) :\n",
    "    return func\n",
    "\n",
    "#1\n",
    "@decorate\n",
    "def target() :\n",
    "    print(\"running target()\")\n",
    "target()"
   ]
  },
  {
   "cell_type": "code",
   "execution_count": 3,
   "metadata": {},
   "outputs": [
    {
     "name": "stdout",
     "output_type": "stream",
     "text": [
      "running target()\n"
     ]
    }
   ],
   "source": [
    "    \n",
    "#2\n",
    "def target() :\n",
    "    print(\"running target()\")\n",
    "target = decorate(target)\n",
    "target()"
   ]
  },
  {
   "cell_type": "markdown",
   "metadata": {},
   "source": [
    "## 데커레이터가 실행되는 시점\n",
    "### 데커레이터는 import time 에 실행되며 이는 runtime 과 구분된다."
   ]
  },
  {
   "cell_type": "code",
   "execution_count": 9,
   "metadata": {},
   "outputs": [],
   "source": [
    "# registration.py 을 확인하고 콘솔에서 실행해보자\n",
    "import registration"
   ]
  },
  {
   "cell_type": "code",
   "execution_count": 10,
   "metadata": {},
   "outputs": [
    {
     "data": {
      "text/plain": [
       "[<function registration.f1()>, <function registration.f2()>]"
      ]
     },
     "execution_count": 10,
     "metadata": {},
     "output_type": "execute_result"
    }
   ],
   "source": [
    "# import time에 데코레이트 함수가 실행되어 registry에 두 함수가 추가된 것을 확인할 수 있다.\n",
    "registration.registry"
   ]
  },
  {
   "cell_type": "markdown",
   "metadata": {},
   "source": [
    "## 데커레이터로 개선된 전략 패턴\n",
    "### promos 에 리스트를 추가하는 것을 깜빡하였을 경우를 데커레이터를 활용해 해결한다."
   ]
  },
  {
   "cell_type": "code",
   "execution_count": null,
   "metadata": {},
   "outputs": [],
   "source": [
    "promos = []\n",
    "\n",
    "# 데커레이트된 함수들은 import time에 실행되어 promos 에 추가될 것이다.\n",
    "def promotion(promo_func) :\n",
    "    promos.append(promo_func)\n",
    "    return promo_func\n",
    "\n",
    "@promotion\n",
    "def fidelity_promo(order) :\n",
    "    \"\"\"충성도 포인트가 1000점 이상인 고객에게 전체 5% 할인 적용\"\"\"\n",
    "    return order.total() * 0.05 if order.customer.fidelity >= 1000 else 0\n",
    "@promotion\n",
    "def bulk_item_promo(order) :\n",
    "    \"\"\"20개 이상의 동일 상품을 구입하면 10% 할인 적용\"\"\"\n",
    "    discount = 0\n",
    "    for item in order.cart :\n",
    "        if item.quantity >= 20 :\n",
    "            discount += item.total() * 0.1\n",
    "    return discount\n",
    "\n",
    "@promotion\n",
    "def large_order_promo(order) :\n",
    "    '''10종류 이상의 상품을 구입하면 전체 7% 할인 적용'''\n",
    "    distinct_items = {item.product for item in order.cart}\n",
    "    if len(distinct_items) >= 10 :\n",
    "        return order.total() * .07\n",
    "    return 0\n",
    "\n",
    "def best_promo(order) :\n",
    "    \"\"\" 최대로 할인받을 금액을 반환한다.\"\"\"\n",
    "    return max(promo(order) for promo in promos)"
   ]
  }
 ],
 "metadata": {
  "kernelspec": {
   "display_name": "Python 3.10.2 64-bit",
   "language": "python",
   "name": "python3"
  },
  "language_info": {
   "codemirror_mode": {
    "name": "ipython",
    "version": 3
   },
   "file_extension": ".py",
   "mimetype": "text/x-python",
   "name": "python",
   "nbconvert_exporter": "python",
   "pygments_lexer": "ipython3",
   "version": "3.10.2"
  },
  "orig_nbformat": 4,
  "vscode": {
   "interpreter": {
    "hash": "369f2c481f4da34e4445cda3fffd2e751bd1c4d706f27375911949ba6bb62e1c"
   }
  }
 },
 "nbformat": 4,
 "nbformat_minor": 2
}
